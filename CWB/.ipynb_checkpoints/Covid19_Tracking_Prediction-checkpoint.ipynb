{
 "cells": [
  {
   "cell_type": "code",
   "execution_count": 1,
   "metadata": {},
   "outputs": [],
   "source": [
    "import numpy as np\n",
    "import pandas as pd\n",
    "import matplotlib.pyplot as plt\n",
    "import seaborn as sns\n",
    "%matplotlib inline\n",
    "from IPython.display import display\n",
    "from sklearn.preprocessing import LabelEncoder, MinMaxScaler, StandardScaler\n",
    "import pickle"
   ]
  },
  {
   "cell_type": "code",
   "execution_count": 2,
   "metadata": {},
   "outputs": [
    {
     "data": {
      "text/html": [
       "        <script type=\"text/javascript\">\n",
       "        window.PlotlyConfig = {MathJaxConfig: 'local'};\n",
       "        if (window.MathJax) {MathJax.Hub.Config({SVG: {font: \"STIX-Web\"}});}\n",
       "        if (typeof require !== 'undefined') {\n",
       "        require.undef(\"plotly\");\n",
       "        requirejs.config({\n",
       "            paths: {\n",
       "                'plotly': ['https://cdn.plot.ly/plotly-latest.min']\n",
       "            }\n",
       "        });\n",
       "        require(['plotly'], function(Plotly) {\n",
       "            window._Plotly = Plotly;\n",
       "        });\n",
       "        }\n",
       "        </script>\n",
       "        "
      ]
     },
     "metadata": {},
     "output_type": "display_data"
    }
   ],
   "source": [
    "import plotly.express as px\n",
    "from plotly.offline import init_notebook_mode, iplot \n",
    "import plotly.graph_objs as go\n",
    "import plotly.offline as py\n",
    "from plotly.offline import download_plotlyjs,init_notebook_mode,plot,iplot\n",
    "\n",
    "\n",
    "py.init_notebook_mode(connected=True)\n",
    "import folium \n",
    "from folium import plugins\n",
    "plt.style.use(\"fivethirtyeight\")# for pretty graphs\n",
    "\n",
    "# Increase the default plot size and set the color scheme\n",
    "plt.rcParams['figure.figsize'] = 10, 8"
   ]
  },
  {
   "cell_type": "code",
   "execution_count": 3,
   "metadata": {},
   "outputs": [
    {
     "data": {
      "text/html": [
       "<div>\n",
       "<style scoped>\n",
       "    .dataframe tbody tr th:only-of-type {\n",
       "        vertical-align: middle;\n",
       "    }\n",
       "\n",
       "    .dataframe tbody tr th {\n",
       "        vertical-align: top;\n",
       "    }\n",
       "\n",
       "    .dataframe thead th {\n",
       "        text-align: right;\n",
       "    }\n",
       "</style>\n",
       "<table border=\"1\" class=\"dataframe\">\n",
       "  <thead>\n",
       "    <tr style=\"text-align: right;\">\n",
       "      <th></th>\n",
       "      <th>Sno</th>\n",
       "      <th>Date</th>\n",
       "      <th>Time</th>\n",
       "      <th>State/UnionTerritory</th>\n",
       "      <th>ConfirmedIndianNational</th>\n",
       "      <th>ConfirmedForeignNational</th>\n",
       "      <th>Cured</th>\n",
       "      <th>Deaths</th>\n",
       "      <th>Confirmed</th>\n",
       "    </tr>\n",
       "  </thead>\n",
       "  <tbody>\n",
       "    <tr>\n",
       "      <th>0</th>\n",
       "      <td>1</td>\n",
       "      <td>30-01-2020</td>\n",
       "      <td>06:00 PM</td>\n",
       "      <td>Kerala</td>\n",
       "      <td>1</td>\n",
       "      <td>0</td>\n",
       "      <td>0</td>\n",
       "      <td>0</td>\n",
       "      <td>1</td>\n",
       "    </tr>\n",
       "    <tr>\n",
       "      <th>1</th>\n",
       "      <td>2</td>\n",
       "      <td>31-01-2020</td>\n",
       "      <td>06:00 PM</td>\n",
       "      <td>Kerala</td>\n",
       "      <td>1</td>\n",
       "      <td>0</td>\n",
       "      <td>0</td>\n",
       "      <td>0</td>\n",
       "      <td>1</td>\n",
       "    </tr>\n",
       "    <tr>\n",
       "      <th>2</th>\n",
       "      <td>3</td>\n",
       "      <td>01-02-2020</td>\n",
       "      <td>06:00 PM</td>\n",
       "      <td>Kerala</td>\n",
       "      <td>2</td>\n",
       "      <td>0</td>\n",
       "      <td>0</td>\n",
       "      <td>0</td>\n",
       "      <td>2</td>\n",
       "    </tr>\n",
       "    <tr>\n",
       "      <th>3</th>\n",
       "      <td>4</td>\n",
       "      <td>02-02-2020</td>\n",
       "      <td>06:00 PM</td>\n",
       "      <td>Kerala</td>\n",
       "      <td>3</td>\n",
       "      <td>0</td>\n",
       "      <td>0</td>\n",
       "      <td>0</td>\n",
       "      <td>3</td>\n",
       "    </tr>\n",
       "    <tr>\n",
       "      <th>4</th>\n",
       "      <td>5</td>\n",
       "      <td>03-02-2020</td>\n",
       "      <td>06:00 PM</td>\n",
       "      <td>Kerala</td>\n",
       "      <td>3</td>\n",
       "      <td>0</td>\n",
       "      <td>0</td>\n",
       "      <td>0</td>\n",
       "      <td>3</td>\n",
       "    </tr>\n",
       "    <tr>\n",
       "      <th>5</th>\n",
       "      <td>6</td>\n",
       "      <td>04-02-2020</td>\n",
       "      <td>06:00 PM</td>\n",
       "      <td>Kerala</td>\n",
       "      <td>3</td>\n",
       "      <td>0</td>\n",
       "      <td>0</td>\n",
       "      <td>0</td>\n",
       "      <td>3</td>\n",
       "    </tr>\n",
       "    <tr>\n",
       "      <th>6</th>\n",
       "      <td>7</td>\n",
       "      <td>05-02-2020</td>\n",
       "      <td>06:00 PM</td>\n",
       "      <td>Kerala</td>\n",
       "      <td>3</td>\n",
       "      <td>0</td>\n",
       "      <td>0</td>\n",
       "      <td>0</td>\n",
       "      <td>3</td>\n",
       "    </tr>\n",
       "    <tr>\n",
       "      <th>7</th>\n",
       "      <td>8</td>\n",
       "      <td>06-02-2020</td>\n",
       "      <td>06:00 PM</td>\n",
       "      <td>Kerala</td>\n",
       "      <td>3</td>\n",
       "      <td>0</td>\n",
       "      <td>0</td>\n",
       "      <td>0</td>\n",
       "      <td>3</td>\n",
       "    </tr>\n",
       "    <tr>\n",
       "      <th>8</th>\n",
       "      <td>9</td>\n",
       "      <td>07-02-2020</td>\n",
       "      <td>06:00 PM</td>\n",
       "      <td>Kerala</td>\n",
       "      <td>3</td>\n",
       "      <td>0</td>\n",
       "      <td>0</td>\n",
       "      <td>0</td>\n",
       "      <td>3</td>\n",
       "    </tr>\n",
       "    <tr>\n",
       "      <th>9</th>\n",
       "      <td>10</td>\n",
       "      <td>08-02-2020</td>\n",
       "      <td>06:00 PM</td>\n",
       "      <td>Kerala</td>\n",
       "      <td>3</td>\n",
       "      <td>0</td>\n",
       "      <td>0</td>\n",
       "      <td>0</td>\n",
       "      <td>3</td>\n",
       "    </tr>\n",
       "    <tr>\n",
       "      <th>10</th>\n",
       "      <td>11</td>\n",
       "      <td>09-02-2020</td>\n",
       "      <td>06:00 PM</td>\n",
       "      <td>Kerala</td>\n",
       "      <td>3</td>\n",
       "      <td>0</td>\n",
       "      <td>0</td>\n",
       "      <td>0</td>\n",
       "      <td>3</td>\n",
       "    </tr>\n",
       "    <tr>\n",
       "      <th>11</th>\n",
       "      <td>12</td>\n",
       "      <td>10-02-2020</td>\n",
       "      <td>06:00 PM</td>\n",
       "      <td>Kerala</td>\n",
       "      <td>3</td>\n",
       "      <td>0</td>\n",
       "      <td>0</td>\n",
       "      <td>0</td>\n",
       "      <td>3</td>\n",
       "    </tr>\n",
       "    <tr>\n",
       "      <th>12</th>\n",
       "      <td>13</td>\n",
       "      <td>11-02-2020</td>\n",
       "      <td>06:00 PM</td>\n",
       "      <td>Kerala</td>\n",
       "      <td>3</td>\n",
       "      <td>0</td>\n",
       "      <td>0</td>\n",
       "      <td>0</td>\n",
       "      <td>3</td>\n",
       "    </tr>\n",
       "    <tr>\n",
       "      <th>13</th>\n",
       "      <td>14</td>\n",
       "      <td>12-02-2020</td>\n",
       "      <td>06:00 PM</td>\n",
       "      <td>Kerala</td>\n",
       "      <td>3</td>\n",
       "      <td>0</td>\n",
       "      <td>0</td>\n",
       "      <td>0</td>\n",
       "      <td>3</td>\n",
       "    </tr>\n",
       "    <tr>\n",
       "      <th>14</th>\n",
       "      <td>15</td>\n",
       "      <td>13-02-2020</td>\n",
       "      <td>06:00 PM</td>\n",
       "      <td>Kerala</td>\n",
       "      <td>3</td>\n",
       "      <td>0</td>\n",
       "      <td>0</td>\n",
       "      <td>0</td>\n",
       "      <td>3</td>\n",
       "    </tr>\n",
       "  </tbody>\n",
       "</table>\n",
       "</div>"
      ],
      "text/plain": [
       "    Sno        Date      Time State/UnionTerritory ConfirmedIndianNational  \\\n",
       "0     1  30-01-2020  06:00 PM               Kerala                       1   \n",
       "1     2  31-01-2020  06:00 PM               Kerala                       1   \n",
       "2     3  01-02-2020  06:00 PM               Kerala                       2   \n",
       "3     4  02-02-2020  06:00 PM               Kerala                       3   \n",
       "4     5  03-02-2020  06:00 PM               Kerala                       3   \n",
       "5     6  04-02-2020  06:00 PM               Kerala                       3   \n",
       "6     7  05-02-2020  06:00 PM               Kerala                       3   \n",
       "7     8  06-02-2020  06:00 PM               Kerala                       3   \n",
       "8     9  07-02-2020  06:00 PM               Kerala                       3   \n",
       "9    10  08-02-2020  06:00 PM               Kerala                       3   \n",
       "10   11  09-02-2020  06:00 PM               Kerala                       3   \n",
       "11   12  10-02-2020  06:00 PM               Kerala                       3   \n",
       "12   13  11-02-2020  06:00 PM               Kerala                       3   \n",
       "13   14  12-02-2020  06:00 PM               Kerala                       3   \n",
       "14   15  13-02-2020  06:00 PM               Kerala                       3   \n",
       "\n",
       "   ConfirmedForeignNational  Cured  Deaths  Confirmed  \n",
       "0                         0      0       0          1  \n",
       "1                         0      0       0          1  \n",
       "2                         0      0       0          2  \n",
       "3                         0      0       0          3  \n",
       "4                         0      0       0          3  \n",
       "5                         0      0       0          3  \n",
       "6                         0      0       0          3  \n",
       "7                         0      0       0          3  \n",
       "8                         0      0       0          3  \n",
       "9                         0      0       0          3  \n",
       "10                        0      0       0          3  \n",
       "11                        0      0       0          3  \n",
       "12                        0      0       0          3  \n",
       "13                        0      0       0          3  \n",
       "14                        0      0       0          3  "
      ]
     },
     "execution_count": 3,
     "metadata": {},
     "output_type": "execute_result"
    }
   ],
   "source": [
    "#Read Data from CSV file And Store It IN DATAFRAME\n",
    "df = pd.read_csv('Datasets/india-covid-19.csv')\n",
    "\n",
    "#print TOP 5 RECORD\n",
    "df.head(15)"
   ]
  },
  {
   "cell_type": "code",
   "execution_count": 4,
   "metadata": {},
   "outputs": [
    {
     "name": "stdout",
     "output_type": "stream",
     "text": [
      "<class 'pandas.core.frame.DataFrame'>\n",
      "RangeIndex: 16526 entries, 0 to 16525\n",
      "Data columns (total 9 columns):\n",
      " #   Column                    Non-Null Count  Dtype \n",
      "---  ------                    --------------  ----- \n",
      " 0   Sno                       16526 non-null  int64 \n",
      " 1   Date                      16526 non-null  object\n",
      " 2   Time                      16526 non-null  object\n",
      " 3   State/UnionTerritory      16526 non-null  object\n",
      " 4   ConfirmedIndianNational   16526 non-null  object\n",
      " 5   ConfirmedForeignNational  16526 non-null  object\n",
      " 6   Cured                     16526 non-null  int64 \n",
      " 7   Deaths                    16526 non-null  int64 \n",
      " 8   Confirmed                 16526 non-null  int64 \n",
      "dtypes: int64(4), object(5)\n",
      "memory usage: 1.1+ MB\n"
     ]
    }
   ],
   "source": [
    "# Data type of All Column\n",
    "# Date column is in Object Format\n",
    "df.info()"
   ]
  },
  {
   "cell_type": "code",
   "execution_count": 5,
   "metadata": {},
   "outputs": [
    {
     "name": "stdout",
     "output_type": "stream",
     "text": [
      "CHECK NULL VALUE FOR EACH COLUMN\n"
     ]
    },
    {
     "data": {
      "text/plain": [
       "Sno                         0\n",
       "Date                        0\n",
       "Time                        0\n",
       "State/UnionTerritory        0\n",
       "ConfirmedIndianNational     0\n",
       "ConfirmedForeignNational    0\n",
       "Cured                       0\n",
       "Deaths                      0\n",
       "Confirmed                   0\n",
       "dtype: int64"
      ]
     },
     "execution_count": 5,
     "metadata": {},
     "output_type": "execute_result"
    }
   ],
   "source": [
    "print ('CHECK NULL VALUE FOR EACH COLUMN')\n",
    "df.isnull().sum()"
   ]
  },
  {
   "cell_type": "code",
   "execution_count": 6,
   "metadata": {},
   "outputs": [
    {
     "data": {
      "text/plain": [
       "Sno                         0\n",
       "Date                        0\n",
       "Time                        0\n",
       "State/UnionTerritory        0\n",
       "ConfirmedIndianNational     0\n",
       "ConfirmedForeignNational    0\n",
       "Cured                       0\n",
       "Deaths                      0\n",
       "Confirmed                   0\n",
       "dtype: int64"
      ]
     },
     "execution_count": 6,
     "metadata": {},
     "output_type": "execute_result"
    }
   ],
   "source": [
    "# CHECK ANY VALUE IS MISSING OR NOT\n",
    "df.isna().sum()"
   ]
  },
  {
   "cell_type": "code",
   "execution_count": 7,
   "metadata": {},
   "outputs": [
    {
     "data": {
      "text/html": [
       "<div>\n",
       "<style scoped>\n",
       "    .dataframe tbody tr th:only-of-type {\n",
       "        vertical-align: middle;\n",
       "    }\n",
       "\n",
       "    .dataframe tbody tr th {\n",
       "        vertical-align: top;\n",
       "    }\n",
       "\n",
       "    .dataframe thead th {\n",
       "        text-align: right;\n",
       "    }\n",
       "</style>\n",
       "<table border=\"1\" class=\"dataframe\">\n",
       "  <thead>\n",
       "    <tr style=\"text-align: right;\">\n",
       "      <th></th>\n",
       "      <th>Sno</th>\n",
       "      <th>Date</th>\n",
       "      <th>Time</th>\n",
       "      <th>SU</th>\n",
       "      <th>CIN</th>\n",
       "      <th>CFN</th>\n",
       "      <th>Cured</th>\n",
       "      <th>Deaths</th>\n",
       "      <th>Confirmed</th>\n",
       "    </tr>\n",
       "  </thead>\n",
       "  <tbody>\n",
       "    <tr>\n",
       "      <th>0</th>\n",
       "      <td>1</td>\n",
       "      <td>30-01-2020</td>\n",
       "      <td>06:00 PM</td>\n",
       "      <td>Kerala</td>\n",
       "      <td>1</td>\n",
       "      <td>0</td>\n",
       "      <td>0</td>\n",
       "      <td>0</td>\n",
       "      <td>1</td>\n",
       "    </tr>\n",
       "    <tr>\n",
       "      <th>1</th>\n",
       "      <td>2</td>\n",
       "      <td>31-01-2020</td>\n",
       "      <td>06:00 PM</td>\n",
       "      <td>Kerala</td>\n",
       "      <td>1</td>\n",
       "      <td>0</td>\n",
       "      <td>0</td>\n",
       "      <td>0</td>\n",
       "      <td>1</td>\n",
       "    </tr>\n",
       "    <tr>\n",
       "      <th>2</th>\n",
       "      <td>3</td>\n",
       "      <td>01-02-2020</td>\n",
       "      <td>06:00 PM</td>\n",
       "      <td>Kerala</td>\n",
       "      <td>2</td>\n",
       "      <td>0</td>\n",
       "      <td>0</td>\n",
       "      <td>0</td>\n",
       "      <td>2</td>\n",
       "    </tr>\n",
       "    <tr>\n",
       "      <th>3</th>\n",
       "      <td>4</td>\n",
       "      <td>02-02-2020</td>\n",
       "      <td>06:00 PM</td>\n",
       "      <td>Kerala</td>\n",
       "      <td>3</td>\n",
       "      <td>0</td>\n",
       "      <td>0</td>\n",
       "      <td>0</td>\n",
       "      <td>3</td>\n",
       "    </tr>\n",
       "    <tr>\n",
       "      <th>4</th>\n",
       "      <td>5</td>\n",
       "      <td>03-02-2020</td>\n",
       "      <td>06:00 PM</td>\n",
       "      <td>Kerala</td>\n",
       "      <td>3</td>\n",
       "      <td>0</td>\n",
       "      <td>0</td>\n",
       "      <td>0</td>\n",
       "      <td>3</td>\n",
       "    </tr>\n",
       "  </tbody>\n",
       "</table>\n",
       "</div>"
      ],
      "text/plain": [
       "   Sno        Date      Time      SU CIN CFN  Cured  Deaths  Confirmed\n",
       "0    1  30-01-2020  06:00 PM  Kerala   1   0      0       0          1\n",
       "1    2  31-01-2020  06:00 PM  Kerala   1   0      0       0          1\n",
       "2    3  01-02-2020  06:00 PM  Kerala   2   0      0       0          2\n",
       "3    4  02-02-2020  06:00 PM  Kerala   3   0      0       0          3\n",
       "4    5  03-02-2020  06:00 PM  Kerala   3   0      0       0          3"
      ]
     },
     "execution_count": 7,
     "metadata": {},
     "output_type": "execute_result"
    }
   ],
   "source": [
    "data_changed_colname = df.rename(columns = {\"State/UnionTerritory\": \"SU\",\n",
    "                                            \"ConfirmedIndianNational\" :\"CIN\",\n",
    "                                           \"ConfirmedForeignNational\":\"CFN\"}) \n",
    "\n",
    "data_changed_colname.head()"
   ]
  },
  {
   "cell_type": "code",
   "execution_count": 8,
   "metadata": {},
   "outputs": [],
   "source": [
    "data = data_changed_colname.copy(deep = True)"
   ]
  },
  {
   "cell_type": "code",
   "execution_count": 9,
   "metadata": {},
   "outputs": [],
   "source": [
    "data.drop('Sno', axis=1, inplace=True)\n",
    "data.drop('Time', axis=1, inplace=True)"
   ]
  },
  {
   "cell_type": "code",
   "execution_count": 10,
   "metadata": {
    "scrolled": true
   },
   "outputs": [
    {
     "name": "stdout",
     "output_type": "stream",
     "text": [
      "Kerala                                      516\n",
      "Delhi                                       484\n",
      "Rajasthan                                   483\n",
      "Uttar Pradesh                               482\n",
      "Haryana                                     482\n",
      "Tamil Nadu                                  479\n",
      "Ladakh                                      479\n",
      "Punjab                                      477\n",
      "Karnataka                                   477\n",
      "Jammu and Kashmir                           477\n",
      "Maharashtra                                 477\n",
      "Andhra Pradesh                              474\n",
      "Uttarakhand                                 471\n",
      "Odisha                                      470\n",
      "Puducherry                                  468\n",
      "West Bengal                                 468\n",
      "Chandigarh                                  467\n",
      "Chhattisgarh                                467\n",
      "Gujarat                                     466\n",
      "Madhya Pradesh                              465\n",
      "Himachal Pradesh                            465\n",
      "Bihar                                       462\n",
      "Manipur                                     462\n",
      "Mizoram                                     461\n",
      "Goa                                         460\n",
      "Andaman and Nicobar Islands                 460\n",
      "Jharkhand                                   454\n",
      "Assam                                       454\n",
      "Arunachal Pradesh                           452\n",
      "Tripura                                     448\n",
      "Meghalaya                                   441\n",
      "Telengana                                   426\n",
      "Dadra and Nagar Haveli and Daman and Diu    417\n",
      "Nagaland                                    408\n",
      "Sikkim                                      401\n",
      "Lakshadweep                                 200\n",
      "Cases being reassigned to states             60\n",
      "Telangana                                    58\n",
      "Unassigned                                    3\n",
      "Dadra and Nagar Haveli                        2\n",
      "Bihar****                                     2\n",
      "Daman & Diu                                   1\n",
      "Name: SU, dtype: int64 \n",
      " (42,)\n"
     ]
    }
   ],
   "source": [
    "total = data['SU'].value_counts()\n",
    "print(total,'\\n',total.shape)"
   ]
  },
  {
   "cell_type": "code",
   "execution_count": 11,
   "metadata": {},
   "outputs": [
    {
     "data": {
      "text/plain": [
       "<AxesSubplot:>"
      ]
     },
     "execution_count": 11,
     "metadata": {},
     "output_type": "execute_result"
    },
    {
     "data": {
      "image/png": "[encoded data removed]",
      "text/plain": [
       "<Figure size 864x864 with 1 Axes>"
      ]
     },
     "metadata": {},
     "output_type": "display_data"
    }
   ],
   "source": [
    "total.plot.bar(color = 'red', figsize = (12, 12))"
   ]
  },
  {
   "cell_type": "code",
   "execution_count": 12,
   "metadata": {},
   "outputs": [],
   "source": [
    "# Coordinates of India States and Uts\n",
    "India_coord = pd.read_csv('Datasets/Indian Coordinates.csv')\n",
    "# Indian State wise Confirmed Cases\n",
    "States_confirm = pd.read_csv('Datasets/Indian Covid Confirmed.csv')"
   ]
  },
  {
   "cell_type": "code",
   "execution_count": 13,
   "metadata": {},
   "outputs": [
    {
     "data": {
      "text/html": [
       "<div style=\"width:100%;\"><div style=\"position:relative;width:100%;height:0;padding-bottom:60%;\"><span style=\"color:#565656\">Make this Notebook Trusted to load map: File -> Trust Notebook</span><iframe src=\"about:blank\" style=\"position:absolute;width:100%;height:100%;left:0;top:0;border:none !important;\" data-html=%3C%21DOCTYPE%20html%3E%0A%3Chead%3E%20%20%20%20%0A%20%20%20%20%3Cmeta%20http-equiv%3D%22content-type%22%20content%3D%22text/html%3B%20charset%3DUTF-8%22%20/%3E%0A%20%20%20%20%0A%20%20%20%20%20%20%20%20%3Cscript%3E%0A%20%20%20%20%20%20%20%20%20%20%20%20L_NO_TOUCH%20%3D%20false%3B%0A%20%20%20%20%20%20%20%20%20%20%20%20L_DISABLE_3D%20%3D%20false%3B%0A%20%20%20%20%20%20%20%20%3C/script%3E%0A%20%20%20%20%0A%20%20%20%20%3Cstyle%3Ehtml%2C%20body%20%7Bwidth%3A%20100%25%3Bheight%3A%20100%25%3Bmargin%3A%200%3Bpadding%3A%200%3B%7D%3C/style%3E%0A%20%20%20%20%3Cstyle%3E%23map%20%7Bposition%3Aabsolute%3Btop%3A0%3Bbottom%3A0%3Bright%3A0%3Bleft%3A0%3B%7D%3C/style%3E%0A%20%20%20%20%3Cscript%20src%3D%22https%3A//cdn.jsdelivr.net/npm/leaflet%401.6.0/dist/leaflet.js%22%3E%3C/script%3E%0A%20%20%20%20%3Cscript%20src%3D%22https%3A//code.jquery.com/jquery-1.12.4.min.js%22%3E%3C/script%3E%0A%20%20%20%20%3Cscript%20src%3D%22https%3A//maxcdn.bootstrapcdn.com/bootstrap/3.2.0/js/bootstrap.min.js%22%3E%3C/script%3E%0A%20%20%20%20%3Cscript%20src%3D%22https%3A//cdnjs.cloudflare.com/ajax/libs/Leaflet.awesome-markers/2.0.2/leaflet.awesome-markers.js%22%3E%3C/script%3E%0A%20%20%20%20%3Clink%20rel%3D%22stylesheet%22%20href%3D%22https%3A//cdn.jsdelivr.net/npm/leaflet%401.6.0/dist/leaflet.css%22/%3E%0A%20%20%20%20%3Clink%20rel%3D%22stylesheet%22%20href%3D%22https%3A//maxcdn.bootstrapcdn.com/bootstrap/3.2.0/css/bootstrap.min.css%22/%3E%0A%20%20%20%20%3Clink%20rel%3D%22stylesheet%22%20href%3D%22https%3A//maxcdn.bootstrapcdn.com/bootstrap/3.2.0/css/bootstrap-theme.min.css%22/%3E%0A%20%20%20%20%3Clink%20rel%3D%22stylesheet%22%20href%3D%22https%3A//maxcdn.bootstrapcdn.com/font-awesome/4.6.3/css/font-awesome.min.css%22/%3E%0A%20%20%20%20%3Clink%20rel%3D%22stylesheet%22%20href%3D%22https%3A//cdnjs.cloudflare.com/ajax/libs/Leaflet.awesome-markers/2.0.2/leaflet.awesome-markers.css%22/%3E%0A%20%20%20%20%3Clink%20rel%3D%22stylesheet%22%20href%3D%22https%3A//cdn.jsdelivr.net/gh/python-visualization/folium/folium/templates/leaflet.awesome.rotate.min.css%22/%3E%0A%20%20%20%20%0A%20%20%20%20%20%20%20%20%20%20%20%20%3Cmeta%20name%3D%22viewport%22%20content%3D%22width%3Ddevice-width%2C%0A%20%20%20%20%20%20%20%20%20%20%20%20%20%20%20%20initial-scale%3D1.0%2C%20maximum-scale%3D1.0%2C%20user-scalable%3Dno%22%20/%3E%0A%20%20%20%20%20%20%20%20%20%20%20%20%3Cstyle%3E%0A%20%20%20%20%20%20%20%20%20%20%20%20%20%20%20%20%23map_cd2e04203b02401881a17f679004ffa6%20%7B%0A%20%20%20%20%20%20%20%20%20%20%20%20%20%20%20%20%20%20%20%20position%3A%20relative%3B%0A%20%20%20%20%20%20%20%20%20%20%20%20%20%20%20%20%20%20%20%20width%3A%20100.0%25%3B%0A%20%20%20%20%20%20%20%20%20%20%20%20%20%20%20%20%20%20%20%20height%3A%20100.0%25%3B%0A%20%20%20%20%20%20%20%20%20%20%20%20%20%20%20%20%20%20%20%20left%3A%200.0%25%3B%0A%20%20%20%20%20%20%20%20%20%20%20%20%20%20%20%20%20%20%20%20top%3A%200.0%25%3B%0A%20%20%20%20%20%20%20%20%20%20%20%20%20%20%20%20%7D%0A%20%20%20%20%20%20%20%20%20%20%20%20%3C/style%3E%0A%20%20%20%20%20%20%20%20%0A%3C/head%3E%0A%3Cbody%3E%20%20%20%20%0A%20%20%20%20%0A%20%20%20%20%20%20%20%20%20%20%20%20%3Cdiv%20class%3D%22folium-map%22%20id%3D%22map_cd2e04203b02401881a17f679004ffa6%22%20%3E%3C/div%3E%0A%20%20%20%20%20%20%20%20%0A%3C/body%3E%0A%3Cscript%3E%20%20%20%20%0A%20%20%20%20%0A%20%20%20%20%20%20%20%20%20%20%20%20var%20map_cd2e04203b02401881a17f679004ffa6%20%3D%20L.map%28%0A%20%20%20%20%20%20%20%20%20%20%20%20%20%20%20%20%22map_cd2e04203b02401881a17f679004ffa6%22%2C%0A%20%20%20%20%20%20%20%20%20%20%20%20%20%20%20%20%7B%0A%20%20%20%20%20%20%20%20%20%20%20%20%20%20%20%20%20%20%20%20center%3A%20%5B30.0%2C%2090.0%5D%2C%0A%20%20%20%20%20%20%20%20%20%20%20%20%20%20%20%20%20%20%20%20crs%3A%20L.CRS.EPSG3857%2C%0A%20%20%20%20%20%20%20%20%20%20%20%20%20%20%20%20%20%20%20%20zoom%3A%201%2C%0A%20%20%20%20%20%20%20%20%20%20%20%20%20%20%20%20%20%20%20%20zoomControl%3A%20true%2C%0A%20%20%20%20%20%20%20%20%20%20%20%20%20%20%20%20%20%20%20%20preferCanvas%3A%20false%2C%0A%20%20%20%20%20%20%20%20%20%20%20%20%20%20%20%20%7D%0A%20%20%20%20%20%20%20%20%20%20%20%20%29%3B%0A%0A%20%20%20%20%20%20%20%20%20%20%20%20%0A%0A%20%20%20%20%20%20%20%20%0A%20%20%20%20%0A%20%20%20%20%20%20%20%20%20%20%20%20var%20tile_layer_cd175949becd47deb018477b0c6c6c1f%20%3D%20L.tileLayer%28%0A%20%20%20%20%20%20%20%20%20%20%20%20%20%20%20%20%22https%3A//stamen-tiles-%7Bs%7D.a.ssl.fastly.net/toner/%7Bz%7D/%7Bx%7D/%7By%7D.png%22%2C%0A%20%20%20%20%20%20%20%20%20%20%20%20%20%20%20%20%7B%22attribution%22%3A%20%22Map%20tiles%20by%20%5Cu003ca%20href%3D%5C%22http%3A//stamen.com%5C%22%5Cu003eStamen%20Design%5Cu003c/a%5Cu003e%2C%20under%20%5Cu003ca%20href%3D%5C%22http%3A//creativecommons.org/licenses/by/3.0%5C%22%5Cu003eCC%20BY%203.0%5Cu003c/a%5Cu003e.%20Data%20by%20%5Cu0026copy%3B%20%5Cu003ca%20href%3D%5C%22http%3A//openstreetmap.org%5C%22%5Cu003eOpenStreetMap%5Cu003c/a%5Cu003e%2C%20under%20%5Cu003ca%20href%3D%5C%22http%3A//www.openstreetmap.org/copyright%5C%22%5Cu003eODbL%5Cu003c/a%5Cu003e.%22%2C%20%22detectRetina%22%3A%20false%2C%20%22maxNativeZoom%22%3A%2018%2C%20%22maxZoom%22%3A%2018%2C%20%22minZoom%22%3A%200%2C%20%22noWrap%22%3A%20false%2C%20%22opacity%22%3A%201%2C%20%22subdomains%22%3A%20%22abc%22%2C%20%22tms%22%3A%20false%7D%0A%20%20%20%20%20%20%20%20%20%20%20%20%29.addTo%28map_cd2e04203b02401881a17f679004ffa6%29%3B%0A%20%20%20%20%20%20%20%20%0A%20%20%20%20%0A%20%20%20%20%20%20%20%20%20%20%20%20var%20circle_marker_25ed11256961472a9fec792e514ecc6b%20%3D%20L.circleMarker%28%0A%20%20%20%20%20%20%20%20%20%20%20%20%20%20%20%20%5B11.66702557%2C%2092.73598262%5D%2C%0A%20%20%20%20%20%20%20%20%20%20%20%20%20%20%20%20%7B%22bubblingMouseEvents%22%3A%20true%2C%20%22color%22%3A%20%22red%22%2C%20%22dashArray%22%3A%20null%2C%20%22dashOffset%22%3A%20null%2C%20%22fill%22%3A%20true%2C%20%22fillColor%22%3A%20%22red%22%2C%20%22fillOpacity%22%3A%200.8%2C%20%22fillRule%22%3A%20%22evenodd%22%2C%20%22lineCap%22%3A%20%22round%22%2C%20%22lineJoin%22%3A%20%22round%22%2C%20%22opacity%22%3A%201.0%2C%20%22radius%22%3A%204.5600000000000005%2C%20%22stroke%22%3A%20true%2C%20%22weight%22%3A%203%7D%0A%20%20%20%20%20%20%20%20%20%20%20%20%29.addTo%28map_cd2e04203b02401881a17f679004ffa6%29%3B%0A%20%20%20%20%20%20%20%20%0A%20%20%20%20%0A%20%20%20%20%20%20%20%20var%20popup_3618171b75c440feaab6f92191c83f67%20%3D%20L.popup%28%7B%22maxWidth%22%3A%20%22100%25%22%7D%29%3B%0A%0A%20%20%20%20%20%20%20%20%0A%20%20%20%20%20%20%20%20%20%20%20%20var%20html_39b0f5456ac84c16ba1b5488ac1c28a8%20%3D%20%24%28%60%3Cdiv%20id%3D%22html_39b0f5456ac84c16ba1b5488ac1c28a8%22%20style%3D%22width%3A%20100.0%25%3B%20height%3A%20100.0%25%3B%22%3E%3Cstrong%3EState%3C/strong%3E%3A%20Andaman%20and%20nicobar%20islands%3Cbr%3E%3Cstrong%3EActive%20Cases%3C/strong%3E%3A%20456%3Cbr%3E%3C/div%3E%60%29%5B0%5D%3B%0A%20%20%20%20%20%20%20%20%20%20%20%20popup_3618171b75c440feaab6f92191c83f67.setContent%28html_39b0f5456ac84c16ba1b5488ac1c28a8%29%3B%0A%20%20%20%20%20%20%20%20%0A%0A%20%20%20%20%20%20%20%20circle_marker_25ed11256961472a9fec792e514ecc6b.bindPopup%28popup_3618171b75c440feaab6f92191c83f67%29%0A%20%20%20%20%20%20%20%20%3B%0A%0A%20%20%20%20%20%20%20%20%0A%20%20%20%20%0A%20%20%20%20%0A%20%20%20%20%20%20%20%20%20%20%20%20var%20circle_marker_d2983fdfe637431daaca368ab1c2f2de%20%3D%20L.circleMarker%28%0A%20%20%20%20%20%20%20%20%20%20%20%20%20%20%20%20%5B14.7504291%2C%2078.57002559%5D%2C%0A%20%20%20%20%20%20%20%20%20%20%20%20%20%20%20%20%7B%22bubblingMouseEvents%22%3A%20true%2C%20%22color%22%3A%20%22red%22%2C%20%22dashArray%22%3A%20null%2C%20%22dashOffset%22%3A%20null%2C%20%22fill%22%3A%20true%2C%20%22fillColor%22%3A%20%22red%22%2C%20%22fillOpacity%22%3A%200.8%2C%20%22fillRule%22%3A%20%22evenodd%22%2C%20%22lineCap%22%3A%20%22round%22%2C%20%22lineJoin%22%3A%20%22round%22%2C%20%22opacity%22%3A%201.0%2C%20%22radius%22%3A%204.7%2C%20%22stroke%22%3A%20true%2C%20%22weight%22%3A%203%7D%0A%20%20%20%20%20%20%20%20%20%20%20%20%29.addTo%28map_cd2e04203b02401881a17f679004ffa6%29%3B%0A%20%20%20%20%20%20%20%20%0A%20%20%20%20%0A%20%20%20%20%20%20%20%20var%20popup_c1465f0ae49747578f97e78474f0b4c0%20%3D%20L.popup%28%7B%22maxWidth%22%3A%20%22100%25%22%7D%29%3B%0A%0A%20%20%20%20%20%20%20%20%0A%20%20%20%20%20%20%20%20%20%20%20%20var%20html_01db3296fb4441ea830d358efabc703c%20%3D%20%24%28%60%3Cdiv%20id%3D%22html_01db3296fb4441ea830d358efabc703c%22%20style%3D%22width%3A%20100.0%25%3B%20height%3A%20100.0%25%3B%22%3E%3Cstrong%3EState%3C/strong%3E%3A%20Andhra%20pradesh%3Cbr%3E%3Cstrong%3EActive%20Cases%3C/strong%3E%3A%20470%3Cbr%3E%3C/div%3E%60%29%5B0%5D%3B%0A%20%20%20%20%20%20%20%20%20%20%20%20popup_c1465f0ae49747578f97e78474f0b4c0.setContent%28html_01db3296fb4441ea830d358efabc703c%29%3B%0A%20%20%20%20%20%20%20%20%0A%0A%20%20%20%20%20%20%20%20circle_marker_d2983fdfe637431daaca368ab1c2f2de.bindPopup%28popup_c1465f0ae49747578f97e78474f0b4c0%29%0A%20%20%20%20%20%20%20%20%3B%0A%0A%20%20%20%20%20%20%20%20%0A%20%20%20%20%0A%20%20%20%20%0A%20%20%20%20%20%20%20%20%20%20%20%20var%20circle_marker_e68c5f071eba434ea00a3adfd8af872f%20%3D%20L.circleMarker%28%0A%20%20%20%20%20%20%20%20%20%20%20%20%20%20%20%20%5B27.10039878%2C%2093.61660071%5D%2C%0A%20%20%20%20%20%20%20%20%20%20%20%20%20%20%20%20%7B%22bubblingMouseEvents%22%3A%20true%2C%20%22color%22%3A%20%22red%22%2C%20%22dashArray%22%3A%20null%2C%20%22dashOffset%22%3A%20null%2C%20%22fill%22%3A%20true%2C%20%22fillColor%22%3A%20%22red%22%2C%20%22fillOpacity%22%3A%200.8%2C%20%22fillRule%22%3A%20%22evenodd%22%2C%20%22lineCap%22%3A%20%22round%22%2C%20%22lineJoin%22%3A%20%22round%22%2C%20%22opacity%22%3A%201.0%2C%20%22radius%22%3A%204.48%2C%20%22stroke%22%3A%20true%2C%20%22weight%22%3A%203%7D%0A%20%20%20%20%20%20%20%20%20%20%20%20%29.addTo%28map_cd2e04203b02401881a17f679004ffa6%29%3B%0A%20%20%20%20%20%20%20%20%0A%20%20%20%20%0A%20%20%20%20%20%20%20%20var%20popup_0d09b3167a274fbca7f04e401417affb%20%3D%20L.popup%28%7B%22maxWidth%22%3A%20%22100%25%22%7D%29%3B%0A%0A%20%20%20%20%20%20%20%20%0A%20%20%20%20%20%20%20%20%20%20%20%20var%20html_089997abf6ec45e08c71d78b59e21d2f%20%3D%20%24%28%60%3Cdiv%20id%3D%22html_089997abf6ec45e08c71d78b59e21d2f%22%20style%3D%22width%3A%20100.0%25%3B%20height%3A%20100.0%25%3B%22%3E%3Cstrong%3EState%3C/strong%3E%3A%20Arunachal%20pradesh%20%3Cbr%3E%3Cstrong%3EActive%20Cases%3C/strong%3E%3A%20448%3Cbr%3E%3C/div%3E%60%29%5B0%5D%3B%0A%20%20%20%20%20%20%20%20%20%20%20%20popup_0d09b3167a274fbca7f04e401417affb.setContent%28html_089997abf6ec45e08c71d78b59e21d2f%29%3B%0A%20%20%20%20%20%20%20%20%0A%0A%20%20%20%20%20%20%20%20circle_marker_e68c5f071eba434ea00a3adfd8af872f.bindPopup%28popup_0d09b3167a274fbca7f04e401417affb%29%0A%20%20%20%20%20%20%20%20%3B%0A%0A%20%20%20%20%20%20%20%20%0A%20%20%20%20%0A%20%20%20%20%0A%20%20%20%20%20%20%20%20%20%20%20%20var%20circle_marker_6bdb59dfdd02403898824112278bd68c%20%3D%20L.circleMarker%28%0A%20%20%20%20%20%20%20%20%20%20%20%20%20%20%20%20%5B26.7499809%2C%2094.21666744%5D%2C%0A%20%20%20%20%20%20%20%20%20%20%20%20%20%20%20%20%7B%22bubblingMouseEvents%22%3A%20true%2C%20%22color%22%3A%20%22red%22%2C%20%22dashArray%22%3A%20null%2C%20%22dashOffset%22%3A%20null%2C%20%22fill%22%3A%20true%2C%20%22fillColor%22%3A%20%22red%22%2C%20%22fillOpacity%22%3A%200.8%2C%20%22fillRule%22%3A%20%22evenodd%22%2C%20%22lineCap%22%3A%20%22round%22%2C%20%22lineJoin%22%3A%20%22round%22%2C%20%22opacity%22%3A%201.0%2C%20%22radius%22%3A%204.5%2C%20%22stroke%22%3A%20true%2C%20%22weight%22%3A%203%7D%0A%20%20%20%20%20%20%20%20%20%20%20%20%29.addTo%28map_cd2e04203b02401881a17f679004ffa6%29%3B%0A%20%20%20%20%20%20%20%20%0A%20%20%20%20%0A%20%20%20%20%20%20%20%20var%20popup_0155fb8ed581442ba528b005bb34de52%20%3D%20L.popup%28%7B%22maxWidth%22%3A%20%22100%25%22%7D%29%3B%0A%0A%20%20%20%20%20%20%20%20%0A%20%20%20%20%20%20%20%20%20%20%20%20var%20html_7753412b0f664e61b1aa9675c83adc6a%20%3D%20%24%28%60%3Cdiv%20id%3D%22html_7753412b0f664e61b1aa9675c83adc6a%22%20style%3D%22width%3A%20100.0%25%3B%20height%3A%20100.0%25%3B%22%3E%3Cstrong%3EState%3C/strong%3E%3A%20Assam%20%3Cbr%3E%3Cstrong%3EActive%20Cases%3C/strong%3E%3A%20450%3Cbr%3E%3C/div%3E%60%29%5B0%5D%3B%0A%20%20%20%20%20%20%20%20%20%20%20%20popup_0155fb8ed581442ba528b005bb34de52.setContent%28html_7753412b0f664e61b1aa9675c83adc6a%29%3B%0A%20%20%20%20%20%20%20%20%0A%0A%20%20%20%20%20%20%20%20circle_marker_6bdb59dfdd02403898824112278bd68c.bindPopup%28popup_0155fb8ed581442ba528b005bb34de52%29%0A%20%20%20%20%20%20%20%20%3B%0A%0A%20%20%20%20%20%20%20%20%0A%20%20%20%20%0A%20%20%20%20%0A%20%20%20%20%20%20%20%20%20%20%20%20var%20circle_marker_0342d3143dae489aabf7be24b4cb9e1b%20%3D%20L.circleMarker%28%0A%20%20%20%20%20%20%20%20%20%20%20%20%20%20%20%20%5B25.78541445%2C%2087.4799727%5D%2C%0A%20%20%20%20%20%20%20%20%20%20%20%20%20%20%20%20%7B%22bubblingMouseEvents%22%3A%20true%2C%20%22color%22%3A%20%22red%22%2C%20%22dashArray%22%3A%20null%2C%20%22dashOffset%22%3A%20null%2C%20%22fill%22%3A%20true%2C%20%22fillColor%22%3A%20%22red%22%2C%20%22fillOpacity%22%3A%200.8%2C%20%22fillRule%22%3A%20%22evenodd%22%2C%20%22lineCap%22%3A%20%22round%22%2C%20%22lineJoin%22%3A%20%22round%22%2C%20%22opacity%22%3A%201.0%2C%20%22radius%22%3A%204.58%2C%20%22stroke%22%3A%20true%2C%20%22weight%22%3A%203%7D%0A%20%20%20%20%20%20%20%20%20%20%20%20%29.addTo%28map_cd2e04203b02401881a17f679004ffa6%29%3B%0A%20%20%20%20%20%20%20%20%0A%20%20%20%20%0A%20%20%20%20%20%20%20%20var%20popup_f7a7fa3887944f0d82137d55329b8f96%20%3D%20L.popup%28%7B%22maxWidth%22%3A%20%22100%25%22%7D%29%3B%0A%0A%20%20%20%20%20%20%20%20%0A%20%20%20%20%20%20%20%20%20%20%20%20var%20html_50d6e2329af244be925678154848eeb6%20%3D%20%24%28%60%3Cdiv%20id%3D%22html_50d6e2329af244be925678154848eeb6%22%20style%3D%22width%3A%20100.0%25%3B%20height%3A%20100.0%25%3B%22%3E%3Cstrong%3EState%3C/strong%3E%3A%20Bihar%20%3Cbr%3E%3Cstrong%3EActive%20Cases%3C/strong%3E%3A%20458%3Cbr%3E%3C/div%3E%60%29%5B0%5D%3B%0A%20%20%20%20%20%20%20%20%20%20%20%20popup_f7a7fa3887944f0d82137d55329b8f96.setContent%28html_50d6e2329af244be925678154848eeb6%29%3B%0A%20%20%20%20%20%20%20%20%0A%0A%20%20%20%20%20%20%20%20circle_marker_0342d3143dae489aabf7be24b4cb9e1b.bindPopup%28popup_f7a7fa3887944f0d82137d55329b8f96%29%0A%20%20%20%20%20%20%20%20%3B%0A%0A%20%20%20%20%20%20%20%20%0A%20%20%20%20%0A%20%20%20%20%0A%20%20%20%20%20%20%20%20%20%20%20%20var%20circle_marker_277d156cde754c3fba351f16b1c5241d%20%3D%20L.circleMarker%28%0A%20%20%20%20%20%20%20%20%20%20%20%20%20%20%20%20%5B30.71999697%2C%2076.78000565%5D%2C%0A%20%20%20%20%20%20%20%20%20%20%20%20%20%20%20%20%7B%22bubblingMouseEvents%22%3A%20true%2C%20%22color%22%3A%20%22red%22%2C%20%22dashArray%22%3A%20null%2C%20%22dashOffset%22%3A%20null%2C%20%22fill%22%3A%20true%2C%20%22fillColor%22%3A%20%22red%22%2C%20%22fillOpacity%22%3A%200.8%2C%20%22fillRule%22%3A%20%22evenodd%22%2C%20%22lineCap%22%3A%20%22round%22%2C%20%22lineJoin%22%3A%20%22round%22%2C%20%22opacity%22%3A%201.0%2C%20%22radius%22%3A%204.63%2C%20%22stroke%22%3A%20true%2C%20%22weight%22%3A%203%7D%0A%20%20%20%20%20%20%20%20%20%20%20%20%29.addTo%28map_cd2e04203b02401881a17f679004ffa6%29%3B%0A%20%20%20%20%20%20%20%20%0A%20%20%20%20%0A%20%20%20%20%20%20%20%20var%20popup_a4f2de6f0dc842beae8073f4aec06cee%20%3D%20L.popup%28%7B%22maxWidth%22%3A%20%22100%25%22%7D%29%3B%0A%0A%20%20%20%20%20%20%20%20%0A%20%20%20%20%20%20%20%20%20%20%20%20var%20html_088f4be58bf342469141f3dd8dc7aaca%20%3D%20%24%28%60%3Cdiv%20id%3D%22html_088f4be58bf342469141f3dd8dc7aaca%22%20style%3D%22width%3A%20100.0%25%3B%20height%3A%20100.0%25%3B%22%3E%3Cstrong%3EState%3C/strong%3E%3A%20Chandigarh%3Cbr%3E%3Cstrong%3EActive%20Cases%3C/strong%3E%3A%20463%3Cbr%3E%3C/div%3E%60%29%5B0%5D%3B%0A%20%20%20%20%20%20%20%20%20%20%20%20popup_a4f2de6f0dc842beae8073f4aec06cee.setContent%28html_088f4be58bf342469141f3dd8dc7aaca%29%3B%0A%20%20%20%20%20%20%20%20%0A%0A%20%20%20%20%20%20%20%20circle_marker_277d156cde754c3fba351f16b1c5241d.bindPopup%28popup_a4f2de6f0dc842beae8073f4aec06cee%29%0A%20%20%20%20%20%20%20%20%3B%0A%0A%20%20%20%20%20%20%20%20%0A%20%20%20%20%0A%20%20%20%20%0A%20%20%20%20%20%20%20%20%20%20%20%20var%20circle_marker_b32906122012465fb08f1ba91f865e39%20%3D%20L.circleMarker%28%0A%20%20%20%20%20%20%20%20%20%20%20%20%20%20%20%20%5B22.09042035%2C%2082.15998734%5D%2C%0A%20%20%20%20%20%20%20%20%20%20%20%20%20%20%20%20%7B%22bubblingMouseEvents%22%3A%20true%2C%20%22color%22%3A%20%22red%22%2C%20%22dashArray%22%3A%20null%2C%20%22dashOffset%22%3A%20null%2C%20%22fill%22%3A%20true%2C%20%22fillColor%22%3A%20%22red%22%2C%20%22fillOpacity%22%3A%200.8%2C%20%22fillRule%22%3A%20%22evenodd%22%2C%20%22lineCap%22%3A%20%22round%22%2C%20%22lineJoin%22%3A%20%22round%22%2C%20%22opacity%22%3A%201.0%2C%20%22radius%22%3A%204.63%2C%20%22stroke%22%3A%20true%2C%20%22weight%22%3A%203%7D%0A%20%20%20%20%20%20%20%20%20%20%20%20%29.addTo%28map_cd2e04203b02401881a17f679004ffa6%29%3B%0A%20%20%20%20%20%20%20%20%0A%20%20%20%20%0A%20%20%20%20%20%20%20%20var%20popup_e4a6d09633554355b448f5abc3aac2ce%20%3D%20L.popup%28%7B%22maxWidth%22%3A%20%22100%25%22%7D%29%3B%0A%0A%20%20%20%20%20%20%20%20%0A%20%20%20%20%20%20%20%20%20%20%20%20var%20html_255f24c0b6424be5820058ec9e22bf01%20%3D%20%24%28%60%3Cdiv%20id%3D%22html_255f24c0b6424be5820058ec9e22bf01%22%20style%3D%22width%3A%20100.0%25%3B%20height%3A%20100.0%25%3B%22%3E%3Cstrong%3EState%3C/strong%3E%3A%20Chhattisgarh%20%3Cbr%3E%3Cstrong%3EActive%20Cases%3C/strong%3E%3A%20463%3Cbr%3E%3C/div%3E%60%29%5B0%5D%3B%0A%20%20%20%20%20%20%20%20%20%20%20%20popup_e4a6d09633554355b448f5abc3aac2ce.setContent%28html_255f24c0b6424be5820058ec9e22bf01%29%3B%0A%20%20%20%20%20%20%20%20%0A%0A%20%20%20%20%20%20%20%20circle_marker_b32906122012465fb08f1ba91f865e39.bindPopup%28popup_e4a6d09633554355b448f5abc3aac2ce%29%0A%20%20%20%20%20%20%20%20%3B%0A%0A%20%20%20%20%20%20%20%20%0A%20%20%20%20%0A%20%20%20%20%0A%20%20%20%20%20%20%20%20%20%20%20%20var%20circle_marker_8a7ab6558f42433ebb63c1432c73b55d%20%3D%20L.circleMarker%28%0A%20%20%20%20%20%20%20%20%20%20%20%20%20%20%20%20%5B20.26657819%2C%2073.0166178%5D%2C%0A%20%20%20%20%20%20%20%20%20%20%20%20%20%20%20%20%7B%22bubblingMouseEvents%22%3A%20true%2C%20%22color%22%3A%20%22red%22%2C%20%22dashArray%22%3A%20null%2C%20%22dashOffset%22%3A%20null%2C%20%22fill%22%3A%20true%2C%20%22fillColor%22%3A%20%22red%22%2C%20%22fillOpacity%22%3A%200.8%2C%20%22fillRule%22%3A%20%22evenodd%22%2C%20%22lineCap%22%3A%20%22round%22%2C%20%22lineJoin%22%3A%20%22round%22%2C%20%22opacity%22%3A%201.0%2C%20%22radius%22%3A%200.02%2C%20%22stroke%22%3A%20true%2C%20%22weight%22%3A%203%7D%0A%20%20%20%20%20%20%20%20%20%20%20%20%29.addTo%28map_cd2e04203b02401881a17f679004ffa6%29%3B%0A%20%20%20%20%20%20%20%20%0A%20%20%20%20%0A%20%20%20%20%20%20%20%20var%20popup_922c298d52a546d2896b958c5fc297e2%20%3D%20L.popup%28%7B%22maxWidth%22%3A%20%22100%25%22%7D%29%3B%0A%0A%20%20%20%20%20%20%20%20%0A%20%20%20%20%20%20%20%20%20%20%20%20var%20html_9845e4a575d64cb295bea395852b42fb%20%3D%20%24%28%60%3Cdiv%20id%3D%22html_9845e4a575d64cb295bea395852b42fb%22%20style%3D%22width%3A%20100.0%25%3B%20height%3A%20100.0%25%3B%22%3E%3Cstrong%3EState%3C/strong%3E%3A%20Dadra%20and%20nagar%20haveli%20%3Cbr%3E%3Cstrong%3EActive%20Cases%3C/strong%3E%3A%202%3Cbr%3E%3C/div%3E%60%29%5B0%5D%3B%0A%20%20%20%20%20%20%20%20%20%20%20%20popup_922c298d52a546d2896b958c5fc297e2.setContent%28html_9845e4a575d64cb295bea395852b42fb%29%3B%0A%20%20%20%20%20%20%20%20%0A%0A%20%20%20%20%20%20%20%20circle_marker_8a7ab6558f42433ebb63c1432c73b55d.bindPopup%28popup_922c298d52a546d2896b958c5fc297e2%29%0A%20%20%20%20%20%20%20%20%3B%0A%0A%20%20%20%20%20%20%20%20%0A%20%20%20%20%0A%20%20%20%20%0A%20%20%20%20%20%20%20%20%20%20%20%20var%20circle_marker_5e68e616da0644d590a2098eae61c6de%20%3D%20L.circleMarker%28%0A%20%20%20%20%20%20%20%20%20%20%20%20%20%20%20%20%5B28.6699929%2C%2077.23000403%5D%2C%0A%20%20%20%20%20%20%20%20%20%20%20%20%20%20%20%20%7B%22bubblingMouseEvents%22%3A%20true%2C%20%22color%22%3A%20%22red%22%2C%20%22dashArray%22%3A%20null%2C%20%22dashOffset%22%3A%20null%2C%20%22fill%22%3A%20true%2C%20%22fillColor%22%3A%20%22red%22%2C%20%22fillOpacity%22%3A%200.8%2C%20%22fillRule%22%3A%20%22evenodd%22%2C%20%22lineCap%22%3A%20%22round%22%2C%20%22lineJoin%22%3A%20%22round%22%2C%20%22opacity%22%3A%201.0%2C%20%22radius%22%3A%204.8%2C%20%22stroke%22%3A%20true%2C%20%22weight%22%3A%203%7D%0A%20%20%20%20%20%20%20%20%20%20%20%20%29.addTo%28map_cd2e04203b02401881a17f679004ffa6%29%3B%0A%20%20%20%20%20%20%20%20%0A%20%20%20%20%0A%20%20%20%20%20%20%20%20var%20popup_4782d0e0753b4669beddef84164135b8%20%3D%20L.popup%28%7B%22maxWidth%22%3A%20%22100%25%22%7D%29%3B%0A%0A%20%20%20%20%20%20%20%20%0A%20%20%20%20%20%20%20%20%20%20%20%20var%20html_a9ed1c7c4dca418e98483a95e2e51565%20%3D%20%24%28%60%3Cdiv%20id%3D%22html_a9ed1c7c4dca418e98483a95e2e51565%22%20style%3D%22width%3A%20100.0%25%3B%20height%3A%20100.0%25%3B%22%3E%3Cstrong%3EState%3C/strong%3E%3A%20Delhi%3Cbr%3E%3Cstrong%3EActive%20Cases%3C/strong%3E%3A%20480%3Cbr%3E%3C/div%3E%60%29%5B0%5D%3B%0A%20%20%20%20%20%20%20%20%20%20%20%20popup_4782d0e0753b4669beddef84164135b8.setContent%28html_a9ed1c7c4dca418e98483a95e2e51565%29%3B%0A%20%20%20%20%20%20%20%20%0A%0A%20%20%20%20%20%20%20%20circle_marker_5e68e616da0644d590a2098eae61c6de.bindPopup%28popup_4782d0e0753b4669beddef84164135b8%29%0A%20%20%20%20%20%20%20%20%3B%0A%0A%20%20%20%20%20%20%20%20%0A%20%20%20%20%0A%20%20%20%20%0A%20%20%20%20%20%20%20%20%20%20%20%20var%20circle_marker_40dcd4d6f2794c49a530b91097fd7403%20%3D%20L.circleMarker%28%0A%20%20%20%20%20%20%20%20%20%20%20%20%20%20%20%20%5B15.491997%2C%2073.81800065%5D%2C%0A%20%20%20%20%20%20%20%20%20%20%20%20%20%20%20%20%7B%22bubblingMouseEvents%22%3A%20true%2C%20%22color%22%3A%20%22red%22%2C%20%22dashArray%22%3A%20null%2C%20%22dashOffset%22%3A%20null%2C%20%22fill%22%3A%20true%2C%20%22fillColor%22%3A%20%22red%22%2C%20%22fillOpacity%22%3A%200.8%2C%20%22fillRule%22%3A%20%22evenodd%22%2C%20%22lineCap%22%3A%20%22round%22%2C%20%22lineJoin%22%3A%20%22round%22%2C%20%22opacity%22%3A%201.0%2C%20%22radius%22%3A%204.5600000000000005%2C%20%22stroke%22%3A%20true%2C%20%22weight%22%3A%203%7D%0A%20%20%20%20%20%20%20%20%20%20%20%20%29.addTo%28map_cd2e04203b02401881a17f679004ffa6%29%3B%0A%20%20%20%20%20%20%20%20%0A%20%20%20%20%0A%20%20%20%20%20%20%20%20var%20popup_c042010177d0430b9444dcfe11957876%20%3D%20L.popup%28%7B%22maxWidth%22%3A%20%22100%25%22%7D%29%3B%0A%0A%20%20%20%20%20%20%20%20%0A%20%20%20%20%20%20%20%20%20%20%20%20var%20html_e739a54ee2244bddafc5d5605cea6b1e%20%3D%20%24%28%60%3Cdiv%20id%3D%22html_e739a54ee2244bddafc5d5605cea6b1e%22%20style%3D%22width%3A%20100.0%25%3B%20height%3A%20100.0%25%3B%22%3E%3Cstrong%3EState%3C/strong%3E%3A%20Goa%20%3Cbr%3E%3Cstrong%3EActive%20Cases%3C/strong%3E%3A%20456%3Cbr%3E%3C/div%3E%60%29%5B0%5D%3B%0A%20%20%20%20%20%20%20%20%20%20%20%20popup_c042010177d0430b9444dcfe11957876.setContent%28html_e739a54ee2244bddafc5d5605cea6b1e%29%3B%0A%20%20%20%20%20%20%20%20%0A%0A%20%20%20%20%20%20%20%20circle_marker_40dcd4d6f2794c49a530b91097fd7403.bindPopup%28popup_c042010177d0430b9444dcfe11957876%29%0A%20%20%20%20%20%20%20%20%3B%0A%0A%20%20%20%20%20%20%20%20%0A%20%20%20%20%0A%20%20%20%20%0A%20%20%20%20%20%20%20%20%20%20%20%20var%20circle_marker_a190d58b39dd44e99fcec0c97b183489%20%3D%20L.circleMarker%28%0A%20%20%20%20%20%20%20%20%20%20%20%20%20%20%20%20%5B28.45000633%2C%2077.01999101%5D%2C%0A%20%20%20%20%20%20%20%20%20%20%20%20%20%20%20%20%7B%22bubblingMouseEvents%22%3A%20true%2C%20%22color%22%3A%20%22red%22%2C%20%22dashArray%22%3A%20null%2C%20%22dashOffset%22%3A%20null%2C%20%22fill%22%3A%20true%2C%20%22fillColor%22%3A%20%22red%22%2C%20%22fillOpacity%22%3A%200.8%2C%20%22fillRule%22%3A%20%22evenodd%22%2C%20%22lineCap%22%3A%20%22round%22%2C%20%22lineJoin%22%3A%20%22round%22%2C%20%22opacity%22%3A%201.0%2C%20%22radius%22%3A%204.78%2C%20%22stroke%22%3A%20true%2C%20%22weight%22%3A%203%7D%0A%20%20%20%20%20%20%20%20%20%20%20%20%29.addTo%28map_cd2e04203b02401881a17f679004ffa6%29%3B%0A%20%20%20%20%20%20%20%20%0A%20%20%20%20%0A%20%20%20%20%20%20%20%20var%20popup_21fa0f49006545ba953a72105789390f%20%3D%20L.popup%28%7B%22maxWidth%22%3A%20%22100%25%22%7D%29%3B%0A%0A%20%20%20%20%20%20%20%20%0A%20%20%20%20%20%20%20%20%20%20%20%20var%20html_a5b737ad0f42402ebdeb62b6f128153d%20%3D%20%24%28%60%3Cdiv%20id%3D%22html_a5b737ad0f42402ebdeb62b6f128153d%22%20style%3D%22width%3A%20100.0%25%3B%20height%3A%20100.0%25%3B%22%3E%3Cstrong%3EState%3C/strong%3E%3A%20Haryana%3Cbr%3E%3Cstrong%3EActive%20Cases%3C/strong%3E%3A%20478%3Cbr%3E%3C/div%3E%60%29%5B0%5D%3B%0A%20%20%20%20%20%20%20%20%20%20%20%20popup_21fa0f49006545ba953a72105789390f.setContent%28html_a5b737ad0f42402ebdeb62b6f128153d%29%3B%0A%20%20%20%20%20%20%20%20%0A%0A%20%20%20%20%20%20%20%20circle_marker_a190d58b39dd44e99fcec0c97b183489.bindPopup%28popup_21fa0f49006545ba953a72105789390f%29%0A%20%20%20%20%20%20%20%20%3B%0A%0A%20%20%20%20%20%20%20%20%0A%20%20%20%20%0A%20%20%20%20%0A%20%20%20%20%20%20%20%20%20%20%20%20var%20circle_marker_e0ee7971f715485d99733011c880bd5d%20%3D%20L.circleMarker%28%0A%20%20%20%20%20%20%20%20%20%20%20%20%20%20%20%20%5B31.10002545%2C%2077.16659704%5D%2C%0A%20%20%20%20%20%20%20%20%20%20%20%20%20%20%20%20%7B%22bubblingMouseEvents%22%3A%20true%2C%20%22color%22%3A%20%22red%22%2C%20%22dashArray%22%3A%20null%2C%20%22dashOffset%22%3A%20null%2C%20%22fill%22%3A%20true%2C%20%22fillColor%22%3A%20%22red%22%2C%20%22fillOpacity%22%3A%200.8%2C%20%22fillRule%22%3A%20%22evenodd%22%2C%20%22lineCap%22%3A%20%22round%22%2C%20%22lineJoin%22%3A%20%22round%22%2C%20%22opacity%22%3A%201.0%2C%20%22radius%22%3A%204.61%2C%20%22stroke%22%3A%20true%2C%20%22weight%22%3A%203%7D%0A%20%20%20%20%20%20%20%20%20%20%20%20%29.addTo%28map_cd2e04203b02401881a17f679004ffa6%29%3B%0A%20%20%20%20%20%20%20%20%0A%20%20%20%20%0A%20%20%20%20%20%20%20%20var%20popup_54a925fa692b4dd78be9df1fad563083%20%3D%20L.popup%28%7B%22maxWidth%22%3A%20%22100%25%22%7D%29%3B%0A%0A%20%20%20%20%20%20%20%20%0A%20%20%20%20%20%20%20%20%20%20%20%20var%20html_2d368134b25947b887f71be3212b487d%20%3D%20%24%28%60%3Cdiv%20id%3D%22html_2d368134b25947b887f71be3212b487d%22%20style%3D%22width%3A%20100.0%25%3B%20height%3A%20100.0%25%3B%22%3E%3Cstrong%3EState%3C/strong%3E%3A%20Himachal%20pradesh%20%3Cbr%3E%3Cstrong%3EActive%20Cases%3C/strong%3E%3A%20461%3Cbr%3E%3C/div%3E%60%29%5B0%5D%3B%0A%20%20%20%20%20%20%20%20%20%20%20%20popup_54a925fa692b4dd78be9df1fad563083.setContent%28html_2d368134b25947b887f71be3212b487d%29%3B%0A%20%20%20%20%20%20%20%20%0A%0A%20%20%20%20%20%20%20%20circle_marker_e0ee7971f715485d99733011c880bd5d.bindPopup%28popup_54a925fa692b4dd78be9df1fad563083%29%0A%20%20%20%20%20%20%20%20%3B%0A%0A%20%20%20%20%20%20%20%20%0A%20%20%20%20%0A%20%20%20%20%0A%20%20%20%20%20%20%20%20%20%20%20%20var%20circle_marker_de1aac52cf914b36926d503bf2a0919b%20%3D%20L.circleMarker%28%0A%20%20%20%20%20%20%20%20%20%20%20%20%20%20%20%20%5B33.45%2C%2076.24%5D%2C%0A%20%20%20%20%20%20%20%20%20%20%20%20%20%20%20%20%7B%22bubblingMouseEvents%22%3A%20true%2C%20%22color%22%3A%20%22red%22%2C%20%22dashArray%22%3A%20null%2C%20%22dashOffset%22%3A%20null%2C%20%22fill%22%3A%20true%2C%20%22fillColor%22%3A%20%22red%22%2C%20%22fillOpacity%22%3A%200.8%2C%20%22fillRule%22%3A%20%22evenodd%22%2C%20%22lineCap%22%3A%20%22round%22%2C%20%22lineJoin%22%3A%20%22round%22%2C%20%22opacity%22%3A%201.0%2C%20%22radius%22%3A%204.73%2C%20%22stroke%22%3A%20true%2C%20%22weight%22%3A%203%7D%0A%20%20%20%20%20%20%20%20%20%20%20%20%29.addTo%28map_cd2e04203b02401881a17f679004ffa6%29%3B%0A%20%20%20%20%20%20%20%20%0A%20%20%20%20%0A%20%20%20%20%20%20%20%20var%20popup_7ba651105db74e4c977af050e0f8eee9%20%3D%20L.popup%28%7B%22maxWidth%22%3A%20%22100%25%22%7D%29%3B%0A%0A%20%20%20%20%20%20%20%20%0A%20%20%20%20%20%20%20%20%20%20%20%20var%20html_836fad3ee3f44f30aa57c3ca42dad804%20%3D%20%24%28%60%3Cdiv%20id%3D%22html_836fad3ee3f44f30aa57c3ca42dad804%22%20style%3D%22width%3A%20100.0%25%3B%20height%3A%20100.0%25%3B%22%3E%3Cstrong%3EState%3C/strong%3E%3A%20Jammu%20and%20kashmir%3Cbr%3E%3Cstrong%3EActive%20Cases%3C/strong%3E%3A%20473%3Cbr%3E%3C/div%3E%60%29%5B0%5D%3B%0A%20%20%20%20%20%20%20%20%20%20%20%20popup_7ba651105db74e4c977af050e0f8eee9.setContent%28html_836fad3ee3f44f30aa57c3ca42dad804%29%3B%0A%20%20%20%20%20%20%20%20%0A%0A%20%20%20%20%20%20%20%20circle_marker_de1aac52cf914b36926d503bf2a0919b.bindPopup%28popup_7ba651105db74e4c977af050e0f8eee9%29%0A%20%20%20%20%20%20%20%20%3B%0A%0A%20%20%20%20%20%20%20%20%0A%20%20%20%20%0A%20%20%20%20%0A%20%20%20%20%20%20%20%20%20%20%20%20var%20circle_marker_1b6280c3bcc04507aa852921829d0633%20%3D%20L.circleMarker%28%0A%20%20%20%20%20%20%20%20%20%20%20%20%20%20%20%20%5B23.80039349%2C%2086.41998572%5D%2C%0A%20%20%20%20%20%20%20%20%20%20%20%20%20%20%20%20%7B%22bubblingMouseEvents%22%3A%20true%2C%20%22color%22%3A%20%22red%22%2C%20%22dashArray%22%3A%20null%2C%20%22dashOffset%22%3A%20null%2C%20%22fill%22%3A%20true%2C%20%22fillColor%22%3A%20%22red%22%2C%20%22fillOpacity%22%3A%200.8%2C%20%22fillRule%22%3A%20%22evenodd%22%2C%20%22lineCap%22%3A%20%22round%22%2C%20%22lineJoin%22%3A%20%22round%22%2C%20%22opacity%22%3A%201.0%2C%20%22radius%22%3A%204.5%2C%20%22stroke%22%3A%20true%2C%20%22weight%22%3A%203%7D%0A%20%20%20%20%20%20%20%20%20%20%20%20%29.addTo%28map_cd2e04203b02401881a17f679004ffa6%29%3B%0A%20%20%20%20%20%20%20%20%0A%20%20%20%20%0A%20%20%20%20%20%20%20%20var%20popup_4e3b15758d304be4a851fec9469225be%20%3D%20L.popup%28%7B%22maxWidth%22%3A%20%22100%25%22%7D%29%3B%0A%0A%20%20%20%20%20%20%20%20%0A%20%20%20%20%20%20%20%20%20%20%20%20var%20html_0282d2bce14c4023b40a2dbad1a8db8c%20%3D%20%24%28%60%3Cdiv%20id%3D%22html_0282d2bce14c4023b40a2dbad1a8db8c%22%20style%3D%22width%3A%20100.0%25%3B%20height%3A%20100.0%25%3B%22%3E%3Cstrong%3EState%3C/strong%3E%3A%20Jharkhand%20%3Cbr%3E%3Cstrong%3EActive%20Cases%3C/strong%3E%3A%20450%3Cbr%3E%3C/div%3E%60%29%5B0%5D%3B%0A%20%20%20%20%20%20%20%20%20%20%20%20popup_4e3b15758d304be4a851fec9469225be.setContent%28html_0282d2bce14c4023b40a2dbad1a8db8c%29%3B%0A%20%20%20%20%20%20%20%20%0A%0A%20%20%20%20%20%20%20%20circle_marker_1b6280c3bcc04507aa852921829d0633.bindPopup%28popup_4e3b15758d304be4a851fec9469225be%29%0A%20%20%20%20%20%20%20%20%3B%0A%0A%20%20%20%20%20%20%20%20%0A%20%20%20%20%0A%20%20%20%20%0A%20%20%20%20%20%20%20%20%20%20%20%20var%20circle_marker_a9a363cfd2874b3ba6d1cb54765363c6%20%3D%20L.circleMarker%28%0A%20%20%20%20%20%20%20%20%20%20%20%20%20%20%20%20%5B12.57038129%2C%2076.91999711%5D%2C%0A%20%20%20%20%20%20%20%20%20%20%20%20%20%20%20%20%7B%22bubblingMouseEvents%22%3A%20true%2C%20%22color%22%3A%20%22red%22%2C%20%22dashArray%22%3A%20null%2C%20%22dashOffset%22%3A%20null%2C%20%22fill%22%3A%20true%2C%20%22fillColor%22%3A%20%22red%22%2C%20%22fillOpacity%22%3A%200.8%2C%20%22fillRule%22%3A%20%22evenodd%22%2C%20%22lineCap%22%3A%20%22round%22%2C%20%22lineJoin%22%3A%20%22round%22%2C%20%22opacity%22%3A%201.0%2C%20%22radius%22%3A%204.73%2C%20%22stroke%22%3A%20true%2C%20%22weight%22%3A%203%7D%0A%20%20%20%20%20%20%20%20%20%20%20%20%29.addTo%28map_cd2e04203b02401881a17f679004ffa6%29%3B%0A%20%20%20%20%20%20%20%20%0A%20%20%20%20%0A%20%20%20%20%20%20%20%20var%20popup_726366346e834ee4a15214183474972a%20%3D%20L.popup%28%7B%22maxWidth%22%3A%20%22100%25%22%7D%29%3B%0A%0A%20%20%20%20%20%20%20%20%0A%20%20%20%20%20%20%20%20%20%20%20%20var%20html_db56dd49771c45feb6d3fd9f8fca8283%20%3D%20%24%28%60%3Cdiv%20id%3D%22html_db56dd49771c45feb6d3fd9f8fca8283%22%20style%3D%22width%3A%20100.0%25%3B%20height%3A%20100.0%25%3B%22%3E%3Cstrong%3EState%3C/strong%3E%3A%20Karnataka%3Cbr%3E%3Cstrong%3EActive%20Cases%3C/strong%3E%3A%20473%3Cbr%3E%3C/div%3E%60%29%5B0%5D%3B%0A%20%20%20%20%20%20%20%20%20%20%20%20popup_726366346e834ee4a15214183474972a.setContent%28html_db56dd49771c45feb6d3fd9f8fca8283%29%3B%0A%20%20%20%20%20%20%20%20%0A%0A%20%20%20%20%20%20%20%20circle_marker_a9a363cfd2874b3ba6d1cb54765363c6.bindPopup%28popup_726366346e834ee4a15214183474972a%29%0A%20%20%20%20%20%20%20%20%3B%0A%0A%20%20%20%20%20%20%20%20%0A%20%20%20%20%0A%20%20%20%20%0A%20%20%20%20%20%20%20%20%20%20%20%20var%20circle_marker_cff4515c86c04d00b6867a1d9aa716d8%20%3D%20L.circleMarker%28%0A%20%20%20%20%20%20%20%20%20%20%20%20%20%20%20%20%5B8.900372741%2C%2076.56999263%5D%2C%0A%20%20%20%20%20%20%20%20%20%20%20%20%20%20%20%20%7B%22bubblingMouseEvents%22%3A%20true%2C%20%22color%22%3A%20%22red%22%2C%20%22dashArray%22%3A%20null%2C%20%22dashOffset%22%3A%20null%2C%20%22fill%22%3A%20true%2C%20%22fillColor%22%3A%20%22red%22%2C%20%22fillOpacity%22%3A%200.8%2C%20%22fillRule%22%3A%20%22evenodd%22%2C%20%22lineCap%22%3A%20%22round%22%2C%20%22lineJoin%22%3A%20%22round%22%2C%20%22opacity%22%3A%201.0%2C%20%22radius%22%3A%205.12%2C%20%22stroke%22%3A%20true%2C%20%22weight%22%3A%203%7D%0A%20%20%20%20%20%20%20%20%20%20%20%20%29.addTo%28map_cd2e04203b02401881a17f679004ffa6%29%3B%0A%20%20%20%20%20%20%20%20%0A%20%20%20%20%0A%20%20%20%20%20%20%20%20var%20popup_1ab3d4e145f843abb0fbdd2e876c0d5d%20%3D%20L.popup%28%7B%22maxWidth%22%3A%20%22100%25%22%7D%29%3B%0A%0A%20%20%20%20%20%20%20%20%0A%20%20%20%20%20%20%20%20%20%20%20%20var%20html_7edea92ce9fc4bf98fb831981d7354cd%20%3D%20%24%28%60%3Cdiv%20id%3D%22html_7edea92ce9fc4bf98fb831981d7354cd%22%20style%3D%22width%3A%20100.0%25%3B%20height%3A%20100.0%25%3B%22%3E%3Cstrong%3EState%3C/strong%3E%3A%20Kerala%3Cbr%3E%3Cstrong%3EActive%20Cases%3C/strong%3E%3A%20512%3Cbr%3E%3C/div%3E%60%29%5B0%5D%3B%0A%20%20%20%20%20%20%20%20%20%20%20%20popup_1ab3d4e145f843abb0fbdd2e876c0d5d.setContent%28html_7edea92ce9fc4bf98fb831981d7354cd%29%3B%0A%20%20%20%20%20%20%20%20%0A%0A%20%20%20%20%20%20%20%20circle_marker_cff4515c86c04d00b6867a1d9aa716d8.bindPopup%28popup_1ab3d4e145f843abb0fbdd2e876c0d5d%29%0A%20%20%20%20%20%20%20%20%3B%0A%0A%20%20%20%20%20%20%20%20%0A%20%20%20%20%0A%20%20%20%20%0A%20%20%20%20%20%20%20%20%20%20%20%20var%20circle_marker_32db8b40ef404e6ab6d8a367bacc4b22%20%3D%20L.circleMarker%28%0A%20%20%20%20%20%20%20%20%20%20%20%20%20%20%20%20%5B10.56257331%2C%2072.63686717%5D%2C%0A%20%20%20%20%20%20%20%20%20%20%20%20%20%20%20%20%7B%22bubblingMouseEvents%22%3A%20true%2C%20%22color%22%3A%20%22red%22%2C%20%22dashArray%22%3A%20null%2C%20%22dashOffset%22%3A%20null%2C%20%22fill%22%3A%20true%2C%20%22fillColor%22%3A%20%22red%22%2C%20%22fillOpacity%22%3A%200.8%2C%20%22fillRule%22%3A%20%22evenodd%22%2C%20%22lineCap%22%3A%20%22round%22%2C%20%22lineJoin%22%3A%20%22round%22%2C%20%22opacity%22%3A%201.0%2C%20%22radius%22%3A%201.96%2C%20%22stroke%22%3A%20true%2C%20%22weight%22%3A%203%7D%0A%20%20%20%20%20%20%20%20%20%20%20%20%29.addTo%28map_cd2e04203b02401881a17f679004ffa6%29%3B%0A%20%20%20%20%20%20%20%20%0A%20%20%20%20%0A%20%20%20%20%20%20%20%20var%20popup_4ad37079d2cb47248f83bb4b10d43968%20%3D%20L.popup%28%7B%22maxWidth%22%3A%20%22100%25%22%7D%29%3B%0A%0A%20%20%20%20%20%20%20%20%0A%20%20%20%20%20%20%20%20%20%20%20%20var%20html_804bddbfc2cd4f9cb8f57ca44a78d8bf%20%3D%20%24%28%60%3Cdiv%20id%3D%22html_804bddbfc2cd4f9cb8f57ca44a78d8bf%22%20style%3D%22width%3A%20100.0%25%3B%20height%3A%20100.0%25%3B%22%3E%3Cstrong%3EState%3C/strong%3E%3A%20Lakshadweep%20%3Cbr%3E%3Cstrong%3EActive%20Cases%3C/strong%3E%3A%20196%3Cbr%3E%3C/div%3E%60%29%5B0%5D%3B%0A%20%20%20%20%20%20%20%20%20%20%20%20popup_4ad37079d2cb47248f83bb4b10d43968.setContent%28html_804bddbfc2cd4f9cb8f57ca44a78d8bf%29%3B%0A%20%20%20%20%20%20%20%20%0A%0A%20%20%20%20%20%20%20%20circle_marker_32db8b40ef404e6ab6d8a367bacc4b22.bindPopup%28popup_4ad37079d2cb47248f83bb4b10d43968%29%0A%20%20%20%20%20%20%20%20%3B%0A%0A%20%20%20%20%20%20%20%20%0A%20%20%20%20%0A%20%20%20%20%0A%20%20%20%20%20%20%20%20%20%20%20%20var%20circle_marker_c3427b61d11348deb6e8f7f179ef1459%20%3D%20L.circleMarker%28%0A%20%20%20%20%20%20%20%20%20%20%20%20%20%20%20%20%5B21.30039105%2C%2076.13001949%5D%2C%0A%20%20%20%20%20%20%20%20%20%20%20%20%20%20%20%20%7B%22bubblingMouseEvents%22%3A%20true%2C%20%22color%22%3A%20%22red%22%2C%20%22dashArray%22%3A%20null%2C%20%22dashOffset%22%3A%20null%2C%20%22fill%22%3A%20true%2C%20%22fillColor%22%3A%20%22red%22%2C%20%22fillOpacity%22%3A%200.8%2C%20%22fillRule%22%3A%20%22evenodd%22%2C%20%22lineCap%22%3A%20%22round%22%2C%20%22lineJoin%22%3A%20%22round%22%2C%20%22opacity%22%3A%201.0%2C%20%22radius%22%3A%204.61%2C%20%22stroke%22%3A%20true%2C%20%22weight%22%3A%203%7D%0A%20%20%20%20%20%20%20%20%20%20%20%20%29.addTo%28map_cd2e04203b02401881a17f679004ffa6%29%3B%0A%20%20%20%20%20%20%20%20%0A%20%20%20%20%0A%20%20%20%20%20%20%20%20var%20popup_11c12c14dfab4250877b021f5ce4f432%20%3D%20L.popup%28%7B%22maxWidth%22%3A%20%22100%25%22%7D%29%3B%0A%0A%20%20%20%20%20%20%20%20%0A%20%20%20%20%20%20%20%20%20%20%20%20var%20html_2e1235b0502e4c678e711439ce16e7e3%20%3D%20%24%28%60%3Cdiv%20id%3D%22html_2e1235b0502e4c678e711439ce16e7e3%22%20style%3D%22width%3A%20100.0%25%3B%20height%3A%20100.0%25%3B%22%3E%3Cstrong%3EState%3C/strong%3E%3A%20Madhya%20pradesh%20%3Cbr%3E%3Cstrong%3EActive%20Cases%3C/strong%3E%3A%20461%3Cbr%3E%3C/div%3E%60%29%5B0%5D%3B%0A%20%20%20%20%20%20%20%20%20%20%20%20popup_11c12c14dfab4250877b021f5ce4f432.setContent%28html_2e1235b0502e4c678e711439ce16e7e3%29%3B%0A%20%20%20%20%20%20%20%20%0A%0A%20%20%20%20%20%20%20%20circle_marker_c3427b61d11348deb6e8f7f179ef1459.bindPopup%28popup_11c12c14dfab4250877b021f5ce4f432%29%0A%20%20%20%20%20%20%20%20%3B%0A%0A%20%20%20%20%20%20%20%20%0A%20%20%20%20%0A%20%20%20%20%0A%20%20%20%20%20%20%20%20%20%20%20%20var%20circle_marker_1db56e2b764f47808faaf4c635c66783%20%3D%20L.circleMarker%28%0A%20%20%20%20%20%20%20%20%20%20%20%20%20%20%20%20%5B19.25023195%2C%2073.16017493%5D%2C%0A%20%20%20%20%20%20%20%20%20%20%20%20%20%20%20%20%7B%22bubblingMouseEvents%22%3A%20true%2C%20%22color%22%3A%20%22red%22%2C%20%22dashArray%22%3A%20null%2C%20%22dashOffset%22%3A%20null%2C%20%22fill%22%3A%20true%2C%20%22fillColor%22%3A%20%22red%22%2C%20%22fillOpacity%22%3A%200.8%2C%20%22fillRule%22%3A%20%22evenodd%22%2C%20%22lineCap%22%3A%20%22round%22%2C%20%22lineJoin%22%3A%20%22round%22%2C%20%22opacity%22%3A%201.0%2C%20%22radius%22%3A%204.73%2C%20%22stroke%22%3A%20true%2C%20%22weight%22%3A%203%7D%0A%20%20%20%20%20%20%20%20%20%20%20%20%29.addTo%28map_cd2e04203b02401881a17f679004ffa6%29%3B%0A%20%20%20%20%20%20%20%20%0A%20%20%20%20%0A%20%20%20%20%20%20%20%20var%20popup_25381e869cca4136abf5c694d96f3b85%20%3D%20L.popup%28%7B%22maxWidth%22%3A%20%22100%25%22%7D%29%3B%0A%0A%20%20%20%20%20%20%20%20%0A%20%20%20%20%20%20%20%20%20%20%20%20var%20html_d751134abdf7448dbd7b917cddf6ee90%20%3D%20%24%28%60%3Cdiv%20id%3D%22html_d751134abdf7448dbd7b917cddf6ee90%22%20style%3D%22width%3A%20100.0%25%3B%20height%3A%20100.0%25%3B%22%3E%3Cstrong%3EState%3C/strong%3E%3A%20Maharashtra%3Cbr%3E%3Cstrong%3EActive%20Cases%3C/strong%3E%3A%20473%3Cbr%3E%3C/div%3E%60%29%5B0%5D%3B%0A%20%20%20%20%20%20%20%20%20%20%20%20popup_25381e869cca4136abf5c694d96f3b85.setContent%28html_d751134abdf7448dbd7b917cddf6ee90%29%3B%0A%20%20%20%20%20%20%20%20%0A%0A%20%20%20%20%20%20%20%20circle_marker_1db56e2b764f47808faaf4c635c66783.bindPopup%28popup_25381e869cca4136abf5c694d96f3b85%29%0A%20%20%20%20%20%20%20%20%3B%0A%0A%20%20%20%20%20%20%20%20%0A%20%20%20%20%0A%20%20%20%20%0A%20%20%20%20%20%20%20%20%20%20%20%20var%20circle_marker_15dd222922b34c2691057e3dee5ba994%20%3D%20L.circleMarker%28%0A%20%20%20%20%20%20%20%20%20%20%20%20%20%20%20%20%5B24.79997072%2C%2093.95001705%5D%2C%0A%20%20%20%20%20%20%20%20%20%20%20%20%20%20%20%20%7B%22bubblingMouseEvents%22%3A%20true%2C%20%22color%22%3A%20%22red%22%2C%20%22dashArray%22%3A%20null%2C%20%22dashOffset%22%3A%20null%2C%20%22fill%22%3A%20true%2C%20%22fillColor%22%3A%20%22red%22%2C%20%22fillOpacity%22%3A%200.8%2C%20%22fillRule%22%3A%20%22evenodd%22%2C%20%22lineCap%22%3A%20%22round%22%2C%20%22lineJoin%22%3A%20%22round%22%2C%20%22opacity%22%3A%201.0%2C%20%22radius%22%3A%204.58%2C%20%22stroke%22%3A%20true%2C%20%22weight%22%3A%203%7D%0A%20%20%20%20%20%20%20%20%20%20%20%20%29.addTo%28map_cd2e04203b02401881a17f679004ffa6%29%3B%0A%20%20%20%20%20%20%20%20%0A%20%20%20%20%0A%20%20%20%20%20%20%20%20var%20popup_46e585ad21ab4dc6b56d5ae557cb3827%20%3D%20L.popup%28%7B%22maxWidth%22%3A%20%22100%25%22%7D%29%3B%0A%0A%20%20%20%20%20%20%20%20%0A%20%20%20%20%20%20%20%20%20%20%20%20var%20html_76667b0415f34c6f89e5dc7ac7396810%20%3D%20%24%28%60%3Cdiv%20id%3D%22html_76667b0415f34c6f89e5dc7ac7396810%22%20style%3D%22width%3A%20100.0%25%3B%20height%3A%20100.0%25%3B%22%3E%3Cstrong%3EState%3C/strong%3E%3A%20Manipur%20%3Cbr%3E%3Cstrong%3EActive%20Cases%3C/strong%3E%3A%20458%3Cbr%3E%3C/div%3E%60%29%5B0%5D%3B%0A%20%20%20%20%20%20%20%20%20%20%20%20popup_46e585ad21ab4dc6b56d5ae557cb3827.setContent%28html_76667b0415f34c6f89e5dc7ac7396810%29%3B%0A%20%20%20%20%20%20%20%20%0A%0A%20%20%20%20%20%20%20%20circle_marker_15dd222922b34c2691057e3dee5ba994.bindPopup%28popup_46e585ad21ab4dc6b56d5ae557cb3827%29%0A%20%20%20%20%20%20%20%20%3B%0A%0A%20%20%20%20%20%20%20%20%0A%20%20%20%20%0A%20%20%20%20%0A%20%20%20%20%20%20%20%20%20%20%20%20var%20circle_marker_e21cb48320914bc9913eaf8210bec7c8%20%3D%20L.circleMarker%28%0A%20%20%20%20%20%20%20%20%20%20%20%20%20%20%20%20%5B25.57049217%2C%2091.8800142%5D%2C%0A%20%20%20%20%20%20%20%20%20%20%20%20%20%20%20%20%7B%22bubblingMouseEvents%22%3A%20true%2C%20%22color%22%3A%20%22red%22%2C%20%22dashArray%22%3A%20null%2C%20%22dashOffset%22%3A%20null%2C%20%22fill%22%3A%20true%2C%20%22fillColor%22%3A%20%22red%22%2C%20%22fillOpacity%22%3A%200.8%2C%20%22fillRule%22%3A%20%22evenodd%22%2C%20%22lineCap%22%3A%20%22round%22%2C%20%22lineJoin%22%3A%20%22round%22%2C%20%22opacity%22%3A%201.0%2C%20%22radius%22%3A%204.37%2C%20%22stroke%22%3A%20true%2C%20%22weight%22%3A%203%7D%0A%20%20%20%20%20%20%20%20%20%20%20%20%29.addTo%28map_cd2e04203b02401881a17f679004ffa6%29%3B%0A%20%20%20%20%20%20%20%20%0A%20%20%20%20%0A%20%20%20%20%20%20%20%20var%20popup_f6c11651739b4110a35805a13bbf5c80%20%3D%20L.popup%28%7B%22maxWidth%22%3A%20%22100%25%22%7D%29%3B%0A%0A%20%20%20%20%20%20%20%20%0A%20%20%20%20%20%20%20%20%20%20%20%20var%20html_063bb0531ed543798fef6499b6224139%20%3D%20%24%28%60%3Cdiv%20id%3D%22html_063bb0531ed543798fef6499b6224139%22%20style%3D%22width%3A%20100.0%25%3B%20height%3A%20100.0%25%3B%22%3E%3Cstrong%3EState%3C/strong%3E%3A%20Meghalaya%20%3Cbr%3E%3Cstrong%3EActive%20Cases%3C/strong%3E%3A%20437%3Cbr%3E%3C/div%3E%60%29%5B0%5D%3B%0A%20%20%20%20%20%20%20%20%20%20%20%20popup_f6c11651739b4110a35805a13bbf5c80.setContent%28html_063bb0531ed543798fef6499b6224139%29%3B%0A%20%20%20%20%20%20%20%20%0A%0A%20%20%20%20%20%20%20%20circle_marker_e21cb48320914bc9913eaf8210bec7c8.bindPopup%28popup_f6c11651739b4110a35805a13bbf5c80%29%0A%20%20%20%20%20%20%20%20%3B%0A%0A%20%20%20%20%20%20%20%20%0A%20%20%20%20%0A%20%20%20%20%0A%20%20%20%20%20%20%20%20%20%20%20%20var%20circle_marker_b0680a607ec44c7e9541e35a5032db51%20%3D%20L.circleMarker%28%0A%20%20%20%20%20%20%20%20%20%20%20%20%20%20%20%20%5B23.71039899%2C%2092.72001461%5D%2C%0A%20%20%20%20%20%20%20%20%20%20%20%20%20%20%20%20%7B%22bubblingMouseEvents%22%3A%20true%2C%20%22color%22%3A%20%22red%22%2C%20%22dashArray%22%3A%20null%2C%20%22dashOffset%22%3A%20null%2C%20%22fill%22%3A%20true%2C%20%22fillColor%22%3A%20%22red%22%2C%20%22fillOpacity%22%3A%200.8%2C%20%22fillRule%22%3A%20%22evenodd%22%2C%20%22lineCap%22%3A%20%22round%22%2C%20%22lineJoin%22%3A%20%22round%22%2C%20%22opacity%22%3A%201.0%2C%20%22radius%22%3A%204.57%2C%20%22stroke%22%3A%20true%2C%20%22weight%22%3A%203%7D%0A%20%20%20%20%20%20%20%20%20%20%20%20%29.addTo%28map_cd2e04203b02401881a17f679004ffa6%29%3B%0A%20%20%20%20%20%20%20%20%0A%20%20%20%20%0A%20%20%20%20%20%20%20%20var%20popup_7fcebbd9ae2d442ab2e2194a17762be3%20%3D%20L.popup%28%7B%22maxWidth%22%3A%20%22100%25%22%7D%29%3B%0A%0A%20%20%20%20%20%20%20%20%0A%20%20%20%20%20%20%20%20%20%20%20%20var%20html_cbaff1e3a6bc4cb18abdfbb8b9dffea9%20%3D%20%24%28%60%3Cdiv%20id%3D%22html_cbaff1e3a6bc4cb18abdfbb8b9dffea9%22%20style%3D%22width%3A%20100.0%25%3B%20height%3A%20100.0%25%3B%22%3E%3Cstrong%3EState%3C/strong%3E%3A%20Mizoram%20%3Cbr%3E%3Cstrong%3EActive%20Cases%3C/strong%3E%3A%20457%3Cbr%3E%3C/div%3E%60%29%5B0%5D%3B%0A%20%20%20%20%20%20%20%20%20%20%20%20popup_7fcebbd9ae2d442ab2e2194a17762be3.setContent%28html_cbaff1e3a6bc4cb18abdfbb8b9dffea9%29%3B%0A%20%20%20%20%20%20%20%20%0A%0A%20%20%20%20%20%20%20%20circle_marker_b0680a607ec44c7e9541e35a5032db51.bindPopup%28popup_7fcebbd9ae2d442ab2e2194a17762be3%29%0A%20%20%20%20%20%20%20%20%3B%0A%0A%20%20%20%20%20%20%20%20%0A%20%20%20%20%0A%20%20%20%20%0A%20%20%20%20%20%20%20%20%20%20%20%20var%20circle_marker_30aa4518f1d0427f8777a7f81eeac74b%20%3D%20L.circleMarker%28%0A%20%20%20%20%20%20%20%20%20%20%20%20%20%20%20%20%5B25.6669979%2C%2094.11657019%5D%2C%0A%20%20%20%20%20%20%20%20%20%20%20%20%20%20%20%20%7B%22bubblingMouseEvents%22%3A%20true%2C%20%22color%22%3A%20%22red%22%2C%20%22dashArray%22%3A%20null%2C%20%22dashOffset%22%3A%20null%2C%20%22fill%22%3A%20true%2C%20%22fillColor%22%3A%20%22red%22%2C%20%22fillOpacity%22%3A%200.8%2C%20%22fillRule%22%3A%20%22evenodd%22%2C%20%22lineCap%22%3A%20%22round%22%2C%20%22lineJoin%22%3A%20%22round%22%2C%20%22opacity%22%3A%201.0%2C%20%22radius%22%3A%204.04%2C%20%22stroke%22%3A%20true%2C%20%22weight%22%3A%203%7D%0A%20%20%20%20%20%20%20%20%20%20%20%20%29.addTo%28map_cd2e04203b02401881a17f679004ffa6%29%3B%0A%20%20%20%20%20%20%20%20%0A%20%20%20%20%0A%20%20%20%20%20%20%20%20var%20popup_a324824f8dba4daea7f4e7179cb74468%20%3D%20L.popup%28%7B%22maxWidth%22%3A%20%22100%25%22%7D%29%3B%0A%0A%20%20%20%20%20%20%20%20%0A%20%20%20%20%20%20%20%20%20%20%20%20var%20html_50897e18ffe442d6bfb7e18d9326ab33%20%3D%20%24%28%60%3Cdiv%20id%3D%22html_50897e18ffe442d6bfb7e18d9326ab33%22%20style%3D%22width%3A%20100.0%25%3B%20height%3A%20100.0%25%3B%22%3E%3Cstrong%3EState%3C/strong%3E%3A%20Nagaland%20%3Cbr%3E%3Cstrong%3EActive%20Cases%3C/strong%3E%3A%20404%3Cbr%3E%3C/div%3E%60%29%5B0%5D%3B%0A%20%20%20%20%20%20%20%20%20%20%20%20popup_a324824f8dba4daea7f4e7179cb74468.setContent%28html_50897e18ffe442d6bfb7e18d9326ab33%29%3B%0A%20%20%20%20%20%20%20%20%0A%0A%20%20%20%20%20%20%20%20circle_marker_30aa4518f1d0427f8777a7f81eeac74b.bindPopup%28popup_a324824f8dba4daea7f4e7179cb74468%29%0A%20%20%20%20%20%20%20%20%3B%0A%0A%20%20%20%20%20%20%20%20%0A%20%20%20%20%0A%20%20%20%20%0A%20%20%20%20%20%20%20%20%20%20%20%20var%20circle_marker_0ca236ad7d0d40c18ef18d3ac5f077b0%20%3D%20L.circleMarker%28%0A%20%20%20%20%20%20%20%20%20%20%20%20%20%20%20%20%5B19.82042971%2C%2085.90001746%5D%2C%0A%20%20%20%20%20%20%20%20%20%20%20%20%20%20%20%20%7B%22bubblingMouseEvents%22%3A%20true%2C%20%22color%22%3A%20%22red%22%2C%20%22dashArray%22%3A%20null%2C%20%22dashOffset%22%3A%20null%2C%20%22fill%22%3A%20true%2C%20%22fillColor%22%3A%20%22red%22%2C%20%22fillOpacity%22%3A%200.8%2C%20%22fillRule%22%3A%20%22evenodd%22%2C%20%22lineCap%22%3A%20%22round%22%2C%20%22lineJoin%22%3A%20%22round%22%2C%20%22opacity%22%3A%201.0%2C%20%22radius%22%3A%204.66%2C%20%22stroke%22%3A%20true%2C%20%22weight%22%3A%203%7D%0A%20%20%20%20%20%20%20%20%20%20%20%20%29.addTo%28map_cd2e04203b02401881a17f679004ffa6%29%3B%0A%20%20%20%20%20%20%20%20%0A%20%20%20%20%0A%20%20%20%20%20%20%20%20var%20popup_82832d2249444b74bc8d568c41895114%20%3D%20L.popup%28%7B%22maxWidth%22%3A%20%22100%25%22%7D%29%3B%0A%0A%20%20%20%20%20%20%20%20%0A%20%20%20%20%20%20%20%20%20%20%20%20var%20html_e59ffac101824c6cb3b03f8afbecf00d%20%3D%20%24%28%60%3Cdiv%20id%3D%22html_e59ffac101824c6cb3b03f8afbecf00d%22%20style%3D%22width%3A%20100.0%25%3B%20height%3A%20100.0%25%3B%22%3E%3Cstrong%3EState%3C/strong%3E%3A%20Odisha%3Cbr%3E%3Cstrong%3EActive%20Cases%3C/strong%3E%3A%20466%3Cbr%3E%3C/div%3E%60%29%5B0%5D%3B%0A%20%20%20%20%20%20%20%20%20%20%20%20popup_82832d2249444b74bc8d568c41895114.setContent%28html_e59ffac101824c6cb3b03f8afbecf00d%29%3B%0A%20%20%20%20%20%20%20%20%0A%0A%20%20%20%20%20%20%20%20circle_marker_0ca236ad7d0d40c18ef18d3ac5f077b0.bindPopup%28popup_82832d2249444b74bc8d568c41895114%29%0A%20%20%20%20%20%20%20%20%3B%0A%0A%20%20%20%20%20%20%20%20%0A%20%20%20%20%0A%20%20%20%20%0A%20%20%20%20%20%20%20%20%20%20%20%20var%20circle_marker_adb7682aa0604eec863ba4c793db4bd9%20%3D%20L.circleMarker%28%0A%20%20%20%20%20%20%20%20%20%20%20%20%20%20%20%20%5B11.93499371%2C%2079.83000037%5D%2C%0A%20%20%20%20%20%20%20%20%20%20%20%20%20%20%20%20%7B%22bubblingMouseEvents%22%3A%20true%2C%20%22color%22%3A%20%22red%22%2C%20%22dashArray%22%3A%20null%2C%20%22dashOffset%22%3A%20null%2C%20%22fill%22%3A%20true%2C%20%22fillColor%22%3A%20%22red%22%2C%20%22fillOpacity%22%3A%200.8%2C%20%22fillRule%22%3A%20%22evenodd%22%2C%20%22lineCap%22%3A%20%22round%22%2C%20%22lineJoin%22%3A%20%22round%22%2C%20%22opacity%22%3A%201.0%2C%20%22radius%22%3A%204.64%2C%20%22stroke%22%3A%20true%2C%20%22weight%22%3A%203%7D%0A%20%20%20%20%20%20%20%20%20%20%20%20%29.addTo%28map_cd2e04203b02401881a17f679004ffa6%29%3B%0A%20%20%20%20%20%20%20%20%0A%20%20%20%20%0A%20%20%20%20%20%20%20%20var%20popup_f127d044cbbd4f1a829de7f82f47573b%20%3D%20L.popup%28%7B%22maxWidth%22%3A%20%22100%25%22%7D%29%3B%0A%0A%20%20%20%20%20%20%20%20%0A%20%20%20%20%20%20%20%20%20%20%20%20var%20html_a2d876280e8f45e5a986ebcf59af830f%20%3D%20%24%28%60%3Cdiv%20id%3D%22html_a2d876280e8f45e5a986ebcf59af830f%22%20style%3D%22width%3A%20100.0%25%3B%20height%3A%20100.0%25%3B%22%3E%3Cstrong%3EState%3C/strong%3E%3A%20Punducherry%3Cbr%3E%3Cstrong%3EActive%20Cases%3C/strong%3E%3A%20464%3Cbr%3E%3C/div%3E%60%29%5B0%5D%3B%0A%20%20%20%20%20%20%20%20%20%20%20%20popup_f127d044cbbd4f1a829de7f82f47573b.setContent%28html_a2d876280e8f45e5a986ebcf59af830f%29%3B%0A%20%20%20%20%20%20%20%20%0A%0A%20%20%20%20%20%20%20%20circle_marker_adb7682aa0604eec863ba4c793db4bd9.bindPopup%28popup_f127d044cbbd4f1a829de7f82f47573b%29%0A%20%20%20%20%20%20%20%20%3B%0A%0A%20%20%20%20%20%20%20%20%0A%20%20%20%20%0A%20%20%20%20%0A%20%20%20%20%20%20%20%20%20%20%20%20var%20circle_marker_95105d041f9a4827a6b1ad09ecd53bf0%20%3D%20L.circleMarker%28%0A%20%20%20%20%20%20%20%20%20%20%20%20%20%20%20%20%5B31.51997398%2C%2075.98000281%5D%2C%0A%20%20%20%20%20%20%20%20%20%20%20%20%20%20%20%20%7B%22bubblingMouseEvents%22%3A%20true%2C%20%22color%22%3A%20%22red%22%2C%20%22dashArray%22%3A%20null%2C%20%22dashOffset%22%3A%20null%2C%20%22fill%22%3A%20true%2C%20%22fillColor%22%3A%20%22red%22%2C%20%22fillOpacity%22%3A%200.8%2C%20%22fillRule%22%3A%20%22evenodd%22%2C%20%22lineCap%22%3A%20%22round%22%2C%20%22lineJoin%22%3A%20%22round%22%2C%20%22opacity%22%3A%201.0%2C%20%22radius%22%3A%204.73%2C%20%22stroke%22%3A%20true%2C%20%22weight%22%3A%203%7D%0A%20%20%20%20%20%20%20%20%20%20%20%20%29.addTo%28map_cd2e04203b02401881a17f679004ffa6%29%3B%0A%20%20%20%20%20%20%20%20%0A%20%20%20%20%0A%20%20%20%20%20%20%20%20var%20popup_184ae972bc0842b78a2303c4d1cdc54b%20%3D%20L.popup%28%7B%22maxWidth%22%3A%20%22100%25%22%7D%29%3B%0A%0A%20%20%20%20%20%20%20%20%0A%20%20%20%20%20%20%20%20%20%20%20%20var%20html_23c0372fbc59418884dfb2e1c124e106%20%3D%20%24%28%60%3Cdiv%20id%3D%22html_23c0372fbc59418884dfb2e1c124e106%22%20style%3D%22width%3A%20100.0%25%3B%20height%3A%20100.0%25%3B%22%3E%3Cstrong%3EState%3C/strong%3E%3A%20Punjab%3Cbr%3E%3Cstrong%3EActive%20Cases%3C/strong%3E%3A%20473%3Cbr%3E%3C/div%3E%60%29%5B0%5D%3B%0A%20%20%20%20%20%20%20%20%20%20%20%20popup_184ae972bc0842b78a2303c4d1cdc54b.setContent%28html_23c0372fbc59418884dfb2e1c124e106%29%3B%0A%20%20%20%20%20%20%20%20%0A%0A%20%20%20%20%20%20%20%20circle_marker_95105d041f9a4827a6b1ad09ecd53bf0.bindPopup%28popup_184ae972bc0842b78a2303c4d1cdc54b%29%0A%20%20%20%20%20%20%20%20%3B%0A%0A%20%20%20%20%20%20%20%20%0A%20%20%20%20%0A%20%20%20%20%0A%20%20%20%20%20%20%20%20%20%20%20%20var%20circle_marker_74d5e8299b184bdc81d32b5942acec15%20%3D%20L.circleMarker%28%0A%20%20%20%20%20%20%20%20%20%20%20%20%20%20%20%20%5B26.44999921%2C%2074.63998124%5D%2C%0A%20%20%20%20%20%20%20%20%20%20%20%20%20%20%20%20%7B%22bubblingMouseEvents%22%3A%20true%2C%20%22color%22%3A%20%22red%22%2C%20%22dashArray%22%3A%20null%2C%20%22dashOffset%22%3A%20null%2C%20%22fill%22%3A%20true%2C%20%22fillColor%22%3A%20%22red%22%2C%20%22fillOpacity%22%3A%200.8%2C%20%22fillRule%22%3A%20%22evenodd%22%2C%20%22lineCap%22%3A%20%22round%22%2C%20%22lineJoin%22%3A%20%22round%22%2C%20%22opacity%22%3A%201.0%2C%20%22radius%22%3A%204.79%2C%20%22stroke%22%3A%20true%2C%20%22weight%22%3A%203%7D%0A%20%20%20%20%20%20%20%20%20%20%20%20%29.addTo%28map_cd2e04203b02401881a17f679004ffa6%29%3B%0A%20%20%20%20%20%20%20%20%0A%20%20%20%20%0A%20%20%20%20%20%20%20%20var%20popup_c4a44e87a0a747598efa37585957d29e%20%3D%20L.popup%28%7B%22maxWidth%22%3A%20%22100%25%22%7D%29%3B%0A%0A%20%20%20%20%20%20%20%20%0A%20%20%20%20%20%20%20%20%20%20%20%20var%20html_4ed0dd8fd3fd4d48a88c5425df62e0c8%20%3D%20%24%28%60%3Cdiv%20id%3D%22html_4ed0dd8fd3fd4d48a88c5425df62e0c8%22%20style%3D%22width%3A%20100.0%25%3B%20height%3A%20100.0%25%3B%22%3E%3Cstrong%3EState%3C/strong%3E%3A%20Rajasthan%3Cbr%3E%3Cstrong%3EActive%20Cases%3C/strong%3E%3A%20479%3Cbr%3E%3C/div%3E%60%29%5B0%5D%3B%0A%20%20%20%20%20%20%20%20%20%20%20%20popup_c4a44e87a0a747598efa37585957d29e.setContent%28html_4ed0dd8fd3fd4d48a88c5425df62e0c8%29%3B%0A%20%20%20%20%20%20%20%20%0A%0A%20%20%20%20%20%20%20%20circle_marker_74d5e8299b184bdc81d32b5942acec15.bindPopup%28popup_c4a44e87a0a747598efa37585957d29e%29%0A%20%20%20%20%20%20%20%20%3B%0A%0A%20%20%20%20%20%20%20%20%0A%20%20%20%20%0A%20%20%20%20%0A%20%20%20%20%20%20%20%20%20%20%20%20var%20circle_marker_86fe9e17c33c45418c11344d79e3c500%20%3D%20L.circleMarker%28%0A%20%20%20%20%20%20%20%20%20%20%20%20%20%20%20%20%5B27.3333303%2C%2088.6166475%5D%2C%0A%20%20%20%20%20%20%20%20%20%20%20%20%20%20%20%20%7B%22bubblingMouseEvents%22%3A%20true%2C%20%22color%22%3A%20%22red%22%2C%20%22dashArray%22%3A%20null%2C%20%22dashOffset%22%3A%20null%2C%20%22fill%22%3A%20true%2C%20%22fillColor%22%3A%20%22red%22%2C%20%22fillOpacity%22%3A%200.8%2C%20%22fillRule%22%3A%20%22evenodd%22%2C%20%22lineCap%22%3A%20%22round%22%2C%20%22lineJoin%22%3A%20%22round%22%2C%20%22opacity%22%3A%201.0%2C%20%22radius%22%3A%203.97%2C%20%22stroke%22%3A%20true%2C%20%22weight%22%3A%203%7D%0A%20%20%20%20%20%20%20%20%20%20%20%20%29.addTo%28map_cd2e04203b02401881a17f679004ffa6%29%3B%0A%20%20%20%20%20%20%20%20%0A%20%20%20%20%0A%20%20%20%20%20%20%20%20var%20popup_e768d0ae0b844178bde0763bb15a161a%20%3D%20L.popup%28%7B%22maxWidth%22%3A%20%22100%25%22%7D%29%3B%0A%0A%20%20%20%20%20%20%20%20%0A%20%20%20%20%20%20%20%20%20%20%20%20var%20html_961597c8d9ec4133a128fc369a191595%20%3D%20%24%28%60%3Cdiv%20id%3D%22html_961597c8d9ec4133a128fc369a191595%22%20style%3D%22width%3A%20100.0%25%3B%20height%3A%20100.0%25%3B%22%3E%3Cstrong%3EState%3C/strong%3E%3A%20Sikkim%20%3Cbr%3E%3Cstrong%3EActive%20Cases%3C/strong%3E%3A%20397%3Cbr%3E%3C/div%3E%60%29%5B0%5D%3B%0A%20%20%20%20%20%20%20%20%20%20%20%20popup_e768d0ae0b844178bde0763bb15a161a.setContent%28html_961597c8d9ec4133a128fc369a191595%29%3B%0A%20%20%20%20%20%20%20%20%0A%0A%20%20%20%20%20%20%20%20circle_marker_86fe9e17c33c45418c11344d79e3c500.bindPopup%28popup_e768d0ae0b844178bde0763bb15a161a%29%0A%20%20%20%20%20%20%20%20%3B%0A%0A%20%20%20%20%20%20%20%20%0A%20%20%20%20%0A%20%20%20%20%0A%20%20%20%20%20%20%20%20%20%20%20%20var%20circle_marker_65facef094fa4d439f6703f83ac68a90%20%3D%20L.circleMarker%28%0A%20%20%20%20%20%20%20%20%20%20%20%20%20%20%20%20%5B18.1124%2C%2079.0193%5D%2C%0A%20%20%20%20%20%20%20%20%20%20%20%20%20%20%20%20%7B%22bubblingMouseEvents%22%3A%20true%2C%20%22color%22%3A%20%22red%22%2C%20%22dashArray%22%3A%20null%2C%20%22dashOffset%22%3A%20null%2C%20%22fill%22%3A%20true%2C%20%22fillColor%22%3A%20%22red%22%2C%20%22fillOpacity%22%3A%200.8%2C%20%22fillRule%22%3A%20%22evenodd%22%2C%20%22lineCap%22%3A%20%22round%22%2C%20%22lineJoin%22%3A%20%22round%22%2C%20%22opacity%22%3A%201.0%2C%20%22radius%22%3A%200.54%2C%20%22stroke%22%3A%20true%2C%20%22weight%22%3A%203%7D%0A%20%20%20%20%20%20%20%20%20%20%20%20%29.addTo%28map_cd2e04203b02401881a17f679004ffa6%29%3B%0A%20%20%20%20%20%20%20%20%0A%20%20%20%20%0A%20%20%20%20%20%20%20%20var%20popup_08c404bc74e3451681a0d5d208513155%20%3D%20L.popup%28%7B%22maxWidth%22%3A%20%22100%25%22%7D%29%3B%0A%0A%20%20%20%20%20%20%20%20%0A%20%20%20%20%20%20%20%20%20%20%20%20var%20html_2127a60ae1bf4770b78f2fd96683e8bc%20%3D%20%24%28%60%3Cdiv%20id%3D%22html_2127a60ae1bf4770b78f2fd96683e8bc%22%20style%3D%22width%3A%20100.0%25%3B%20height%3A%20100.0%25%3B%22%3E%3Cstrong%3EState%3C/strong%3E%3A%20Telengana%3Cbr%3E%3Cstrong%3EActive%20Cases%3C/strong%3E%3A%2054%3Cbr%3E%3C/div%3E%60%29%5B0%5D%3B%0A%20%20%20%20%20%20%20%20%20%20%20%20popup_08c404bc74e3451681a0d5d208513155.setContent%28html_2127a60ae1bf4770b78f2fd96683e8bc%29%3B%0A%20%20%20%20%20%20%20%20%0A%0A%20%20%20%20%20%20%20%20circle_marker_65facef094fa4d439f6703f83ac68a90.bindPopup%28popup_08c404bc74e3451681a0d5d208513155%29%0A%20%20%20%20%20%20%20%20%3B%0A%0A%20%20%20%20%20%20%20%20%0A%20%20%20%20%0A%20%20%20%20%0A%20%20%20%20%20%20%20%20%20%20%20%20var%20circle_marker_1139e2022a7d49b5b488296b50b50b49%20%3D%20L.circleMarker%28%0A%20%20%20%20%20%20%20%20%20%20%20%20%20%20%20%20%5B12.92038576%2C%2079.15004187%5D%2C%0A%20%20%20%20%20%20%20%20%20%20%20%20%20%20%20%20%7B%22bubblingMouseEvents%22%3A%20true%2C%20%22color%22%3A%20%22red%22%2C%20%22dashArray%22%3A%20null%2C%20%22dashOffset%22%3A%20null%2C%20%22fill%22%3A%20true%2C%20%22fillColor%22%3A%20%22red%22%2C%20%22fillOpacity%22%3A%200.8%2C%20%22fillRule%22%3A%20%22evenodd%22%2C%20%22lineCap%22%3A%20%22round%22%2C%20%22lineJoin%22%3A%20%22round%22%2C%20%22opacity%22%3A%201.0%2C%20%22radius%22%3A%204.75%2C%20%22stroke%22%3A%20true%2C%20%22weight%22%3A%203%7D%0A%20%20%20%20%20%20%20%20%20%20%20%20%29.addTo%28map_cd2e04203b02401881a17f679004ffa6%29%3B%0A%20%20%20%20%20%20%20%20%0A%20%20%20%20%0A%20%20%20%20%20%20%20%20var%20popup_b9d0035f99a64a2a9c8132518846a480%20%3D%20L.popup%28%7B%22maxWidth%22%3A%20%22100%25%22%7D%29%3B%0A%0A%20%20%20%20%20%20%20%20%0A%20%20%20%20%20%20%20%20%20%20%20%20var%20html_fb7f339c866c49449fef99e984ccf6ae%20%3D%20%24%28%60%3Cdiv%20id%3D%22html_fb7f339c866c49449fef99e984ccf6ae%22%20style%3D%22width%3A%20100.0%25%3B%20height%3A%20100.0%25%3B%22%3E%3Cstrong%3EState%3C/strong%3E%3A%20Tamil%20nadu%3Cbr%3E%3Cstrong%3EActive%20Cases%3C/strong%3E%3A%20475%3Cbr%3E%3C/div%3E%60%29%5B0%5D%3B%0A%20%20%20%20%20%20%20%20%20%20%20%20popup_b9d0035f99a64a2a9c8132518846a480.setContent%28html_fb7f339c866c49449fef99e984ccf6ae%29%3B%0A%20%20%20%20%20%20%20%20%0A%0A%20%20%20%20%20%20%20%20circle_marker_1139e2022a7d49b5b488296b50b50b49.bindPopup%28popup_b9d0035f99a64a2a9c8132518846a480%29%0A%20%20%20%20%20%20%20%20%3B%0A%0A%20%20%20%20%20%20%20%20%0A%20%20%20%20%0A%20%20%20%20%0A%20%20%20%20%20%20%20%20%20%20%20%20var%20circle_marker_f7c16d8a7f3f42549b72f58d3819fa71%20%3D%20L.circleMarker%28%0A%20%20%20%20%20%20%20%20%20%20%20%20%20%20%20%20%5B23.83540428%2C%2091.27999914%5D%2C%0A%20%20%20%20%20%20%20%20%20%20%20%20%20%20%20%20%7B%22bubblingMouseEvents%22%3A%20true%2C%20%22color%22%3A%20%22red%22%2C%20%22dashArray%22%3A%20null%2C%20%22dashOffset%22%3A%20null%2C%20%22fill%22%3A%20true%2C%20%22fillColor%22%3A%20%22red%22%2C%20%22fillOpacity%22%3A%200.8%2C%20%22fillRule%22%3A%20%22evenodd%22%2C%20%22lineCap%22%3A%20%22round%22%2C%20%22lineJoin%22%3A%20%22round%22%2C%20%22opacity%22%3A%201.0%2C%20%22radius%22%3A%204.44%2C%20%22stroke%22%3A%20true%2C%20%22weight%22%3A%203%7D%0A%20%20%20%20%20%20%20%20%20%20%20%20%29.addTo%28map_cd2e04203b02401881a17f679004ffa6%29%3B%0A%20%20%20%20%20%20%20%20%0A%20%20%20%20%0A%20%20%20%20%20%20%20%20var%20popup_c02347b260304cfda52d5cd656dbe279%20%3D%20L.popup%28%7B%22maxWidth%22%3A%20%22100%25%22%7D%29%3B%0A%0A%20%20%20%20%20%20%20%20%0A%20%20%20%20%20%20%20%20%20%20%20%20var%20html_4aad421d692b4c76ba6d8ac5a258c240%20%3D%20%24%28%60%3Cdiv%20id%3D%22html_4aad421d692b4c76ba6d8ac5a258c240%22%20style%3D%22width%3A%20100.0%25%3B%20height%3A%20100.0%25%3B%22%3E%3Cstrong%3EState%3C/strong%3E%3A%20Tripura%20%3Cbr%3E%3Cstrong%3EActive%20Cases%3C/strong%3E%3A%20444%3Cbr%3E%3C/div%3E%60%29%5B0%5D%3B%0A%20%20%20%20%20%20%20%20%20%20%20%20popup_c02347b260304cfda52d5cd656dbe279.setContent%28html_4aad421d692b4c76ba6d8ac5a258c240%29%3B%0A%20%20%20%20%20%20%20%20%0A%0A%20%20%20%20%20%20%20%20circle_marker_f7c16d8a7f3f42549b72f58d3819fa71.bindPopup%28popup_c02347b260304cfda52d5cd656dbe279%29%0A%20%20%20%20%20%20%20%20%3B%0A%0A%20%20%20%20%20%20%20%20%0A%20%20%20%20%0A%20%20%20%20%0A%20%20%20%20%20%20%20%20%20%20%20%20var%20circle_marker_72d7330daf3e46a787d654629b78ad7c%20%3D%20L.circleMarker%28%0A%20%20%20%20%20%20%20%20%20%20%20%20%20%20%20%20%5B27.59998069%2C%2078.05000565%5D%2C%0A%20%20%20%20%20%20%20%20%20%20%20%20%20%20%20%20%7B%22bubblingMouseEvents%22%3A%20true%2C%20%22color%22%3A%20%22red%22%2C%20%22dashArray%22%3A%20null%2C%20%22dashOffset%22%3A%20null%2C%20%22fill%22%3A%20true%2C%20%22fillColor%22%3A%20%22red%22%2C%20%22fillOpacity%22%3A%200.8%2C%20%22fillRule%22%3A%20%22evenodd%22%2C%20%22lineCap%22%3A%20%22round%22%2C%20%22lineJoin%22%3A%20%22round%22%2C%20%22opacity%22%3A%201.0%2C%20%22radius%22%3A%204.78%2C%20%22stroke%22%3A%20true%2C%20%22weight%22%3A%203%7D%0A%20%20%20%20%20%20%20%20%20%20%20%20%29.addTo%28map_cd2e04203b02401881a17f679004ffa6%29%3B%0A%20%20%20%20%20%20%20%20%0A%20%20%20%20%0A%20%20%20%20%20%20%20%20var%20popup_81aaf7dbfb5b4d6f9594d2185db0c956%20%3D%20L.popup%28%7B%22maxWidth%22%3A%20%22100%25%22%7D%29%3B%0A%0A%20%20%20%20%20%20%20%20%0A%20%20%20%20%20%20%20%20%20%20%20%20var%20html_84c352b0283f46f8a19048ce326a5805%20%3D%20%24%28%60%3Cdiv%20id%3D%22html_84c352b0283f46f8a19048ce326a5805%22%20style%3D%22width%3A%20100.0%25%3B%20height%3A%20100.0%25%3B%22%3E%3Cstrong%3EState%3C/strong%3E%3A%20Uttar%20pradesh%3Cbr%3E%3Cstrong%3EActive%20Cases%3C/strong%3E%3A%20478%3Cbr%3E%3C/div%3E%60%29%5B0%5D%3B%0A%20%20%20%20%20%20%20%20%20%20%20%20popup_81aaf7dbfb5b4d6f9594d2185db0c956.setContent%28html_84c352b0283f46f8a19048ce326a5805%29%3B%0A%20%20%20%20%20%20%20%20%0A%0A%20%20%20%20%20%20%20%20circle_marker_72d7330daf3e46a787d654629b78ad7c.bindPopup%28popup_81aaf7dbfb5b4d6f9594d2185db0c956%29%0A%20%20%20%20%20%20%20%20%3B%0A%0A%20%20%20%20%20%20%20%20%0A%20%20%20%20%0A%20%20%20%20%0A%20%20%20%20%20%20%20%20%20%20%20%20var%20circle_marker_9d1332704cfe4a05b052de0e2e7488d1%20%3D%20L.circleMarker%28%0A%20%20%20%20%20%20%20%20%20%20%20%20%20%20%20%20%5B30.32040895%2C%2078.05000565%5D%2C%0A%20%20%20%20%20%20%20%20%20%20%20%20%20%20%20%20%7B%22bubblingMouseEvents%22%3A%20true%2C%20%22color%22%3A%20%22red%22%2C%20%22dashArray%22%3A%20null%2C%20%22dashOffset%22%3A%20null%2C%20%22fill%22%3A%20true%2C%20%22fillColor%22%3A%20%22red%22%2C%20%22fillOpacity%22%3A%200.8%2C%20%22fillRule%22%3A%20%22evenodd%22%2C%20%22lineCap%22%3A%20%22round%22%2C%20%22lineJoin%22%3A%20%22round%22%2C%20%22opacity%22%3A%201.0%2C%20%22radius%22%3A%204.67%2C%20%22stroke%22%3A%20true%2C%20%22weight%22%3A%203%7D%0A%20%20%20%20%20%20%20%20%20%20%20%20%29.addTo%28map_cd2e04203b02401881a17f679004ffa6%29%3B%0A%20%20%20%20%20%20%20%20%0A%20%20%20%20%0A%20%20%20%20%20%20%20%20var%20popup_ac4554c302b14269b764e8df18b7377d%20%3D%20L.popup%28%7B%22maxWidth%22%3A%20%22100%25%22%7D%29%3B%0A%0A%20%20%20%20%20%20%20%20%0A%20%20%20%20%20%20%20%20%20%20%20%20var%20html_e79695dc78c4478ca59cd91895bd2cef%20%3D%20%24%28%60%3Cdiv%20id%3D%22html_e79695dc78c4478ca59cd91895bd2cef%22%20style%3D%22width%3A%20100.0%25%3B%20height%3A%20100.0%25%3B%22%3E%3Cstrong%3EState%3C/strong%3E%3A%20Uttarakhand%3Cbr%3E%3Cstrong%3EActive%20Cases%3C/strong%3E%3A%20467%3Cbr%3E%3C/div%3E%60%29%5B0%5D%3B%0A%20%20%20%20%20%20%20%20%20%20%20%20popup_ac4554c302b14269b764e8df18b7377d.setContent%28html_e79695dc78c4478ca59cd91895bd2cef%29%3B%0A%20%20%20%20%20%20%20%20%0A%0A%20%20%20%20%20%20%20%20circle_marker_9d1332704cfe4a05b052de0e2e7488d1.bindPopup%28popup_ac4554c302b14269b764e8df18b7377d%29%0A%20%20%20%20%20%20%20%20%3B%0A%0A%20%20%20%20%20%20%20%20%0A%20%20%20%20%0A%20%20%20%20%0A%20%20%20%20%20%20%20%20%20%20%20%20var%20circle_marker_fec251cadb394d7f8ffc88451e67992f%20%3D%20L.circleMarker%28%0A%20%20%20%20%20%20%20%20%20%20%20%20%20%20%20%20%5B22.58039044%2C%2088.32994665%5D%2C%0A%20%20%20%20%20%20%20%20%20%20%20%20%20%20%20%20%7B%22bubblingMouseEvents%22%3A%20true%2C%20%22color%22%3A%20%22red%22%2C%20%22dashArray%22%3A%20null%2C%20%22dashOffset%22%3A%20null%2C%20%22fill%22%3A%20true%2C%20%22fillColor%22%3A%20%22red%22%2C%20%22fillOpacity%22%3A%200.8%2C%20%22fillRule%22%3A%20%22evenodd%22%2C%20%22lineCap%22%3A%20%22round%22%2C%20%22lineJoin%22%3A%20%22round%22%2C%20%22opacity%22%3A%201.0%2C%20%22radius%22%3A%204.64%2C%20%22stroke%22%3A%20true%2C%20%22weight%22%3A%203%7D%0A%20%20%20%20%20%20%20%20%20%20%20%20%29.addTo%28map_cd2e04203b02401881a17f679004ffa6%29%3B%0A%20%20%20%20%20%20%20%20%0A%20%20%20%20%0A%20%20%20%20%20%20%20%20var%20popup_43dd135de05c42f9a69cc5dd8c1ea81d%20%3D%20L.popup%28%7B%22maxWidth%22%3A%20%22100%25%22%7D%29%3B%0A%0A%20%20%20%20%20%20%20%20%0A%20%20%20%20%20%20%20%20%20%20%20%20var%20html_9fa4f2c4f3974d1493590c34fa4db892%20%3D%20%24%28%60%3Cdiv%20id%3D%22html_9fa4f2c4f3974d1493590c34fa4db892%22%20style%3D%22width%3A%20100.0%25%3B%20height%3A%20100.0%25%3B%22%3E%3Cstrong%3EState%3C/strong%3E%3A%20West%20bengal%20%3Cbr%3E%3Cstrong%3EActive%20Cases%3C/strong%3E%3A%20464%3Cbr%3E%3C/div%3E%60%29%5B0%5D%3B%0A%20%20%20%20%20%20%20%20%20%20%20%20popup_43dd135de05c42f9a69cc5dd8c1ea81d.setContent%28html_9fa4f2c4f3974d1493590c34fa4db892%29%3B%0A%20%20%20%20%20%20%20%20%0A%0A%20%20%20%20%20%20%20%20circle_marker_fec251cadb394d7f8ffc88451e67992f.bindPopup%28popup_43dd135de05c42f9a69cc5dd8c1ea81d%29%0A%20%20%20%20%20%20%20%20%3B%0A%0A%20%20%20%20%20%20%20%20%0A%20%20%20%20%0A%20%20%20%20%0A%20%20%20%20%20%20%20%20%20%20%20%20var%20circle_marker_958f9904fdd24fc9b68c312b58698155%20%3D%20L.circleMarker%28%0A%20%20%20%20%20%20%20%20%20%20%20%20%20%20%20%20%5B34.1%2C%2077.34%5D%2C%0A%20%20%20%20%20%20%20%20%20%20%20%20%20%20%20%20%7B%22bubblingMouseEvents%22%3A%20true%2C%20%22color%22%3A%20%22red%22%2C%20%22dashArray%22%3A%20null%2C%20%22dashOffset%22%3A%20null%2C%20%22fill%22%3A%20true%2C%20%22fillColor%22%3A%20%22red%22%2C%20%22fillOpacity%22%3A%200.8%2C%20%22fillRule%22%3A%20%22evenodd%22%2C%20%22lineCap%22%3A%20%22round%22%2C%20%22lineJoin%22%3A%20%22round%22%2C%20%22opacity%22%3A%201.0%2C%20%22radius%22%3A%204.75%2C%20%22stroke%22%3A%20true%2C%20%22weight%22%3A%203%7D%0A%20%20%20%20%20%20%20%20%20%20%20%20%29.addTo%28map_cd2e04203b02401881a17f679004ffa6%29%3B%0A%20%20%20%20%20%20%20%20%0A%20%20%20%20%0A%20%20%20%20%20%20%20%20var%20popup_0c399fdd489542889c16cb69a1199d77%20%3D%20L.popup%28%7B%22maxWidth%22%3A%20%22100%25%22%7D%29%3B%0A%0A%20%20%20%20%20%20%20%20%0A%20%20%20%20%20%20%20%20%20%20%20%20var%20html_36edae1673004e9792121ec27072914f%20%3D%20%24%28%60%3Cdiv%20id%3D%22html_36edae1673004e9792121ec27072914f%22%20style%3D%22width%3A%20100.0%25%3B%20height%3A%20100.0%25%3B%22%3E%3Cstrong%3EState%3C/strong%3E%3A%20Ladakh%3Cbr%3E%3Cstrong%3EActive%20Cases%3C/strong%3E%3A%20475%3Cbr%3E%3C/div%3E%60%29%5B0%5D%3B%0A%20%20%20%20%20%20%20%20%20%20%20%20popup_0c399fdd489542889c16cb69a1199d77.setContent%28html_36edae1673004e9792121ec27072914f%29%3B%0A%20%20%20%20%20%20%20%20%0A%0A%20%20%20%20%20%20%20%20circle_marker_958f9904fdd24fc9b68c312b58698155.bindPopup%28popup_0c399fdd489542889c16cb69a1199d77%29%0A%20%20%20%20%20%20%20%20%3B%0A%0A%20%20%20%20%20%20%20%20%0A%20%20%20%20%0A%20%20%20%20%0A%20%20%20%20%20%20%20%20%20%20%20%20var%20circle_marker_8b6bacae4a854888a30ddf8550b6be9b%20%3D%20L.circleMarker%28%0A%20%20%20%20%20%20%20%20%20%20%20%20%20%20%20%20%5B22.2587%2C%2071.1924%5D%2C%0A%20%20%20%20%20%20%20%20%20%20%20%20%20%20%20%20%7B%22bubblingMouseEvents%22%3A%20true%2C%20%22color%22%3A%20%22red%22%2C%20%22dashArray%22%3A%20null%2C%20%22dashOffset%22%3A%20null%2C%20%22fill%22%3A%20true%2C%20%22fillColor%22%3A%20%22red%22%2C%20%22fillOpacity%22%3A%200.8%2C%20%22fillRule%22%3A%20%22evenodd%22%2C%20%22lineCap%22%3A%20%22round%22%2C%20%22lineJoin%22%3A%20%22round%22%2C%20%22opacity%22%3A%201.0%2C%20%22radius%22%3A%204.62%2C%20%22stroke%22%3A%20true%2C%20%22weight%22%3A%203%7D%0A%20%20%20%20%20%20%20%20%20%20%20%20%29.addTo%28map_cd2e04203b02401881a17f679004ffa6%29%3B%0A%20%20%20%20%20%20%20%20%0A%20%20%20%20%0A%20%20%20%20%20%20%20%20var%20popup_2ab59a79ede548cb9694154171399f56%20%3D%20L.popup%28%7B%22maxWidth%22%3A%20%22100%25%22%7D%29%3B%0A%0A%20%20%20%20%20%20%20%20%0A%20%20%20%20%20%20%20%20%20%20%20%20var%20html_ed9de04294704fe58a85e308754ac925%20%3D%20%24%28%60%3Cdiv%20id%3D%22html_ed9de04294704fe58a85e308754ac925%22%20style%3D%22width%3A%20100.0%25%3B%20height%3A%20100.0%25%3B%22%3E%3Cstrong%3EState%3C/strong%3E%3A%20Gujarat%3Cbr%3E%3Cstrong%3EActive%20Cases%3C/strong%3E%3A%20462%3Cbr%3E%3C/div%3E%60%29%5B0%5D%3B%0A%20%20%20%20%20%20%20%20%20%20%20%20popup_2ab59a79ede548cb9694154171399f56.setContent%28html_ed9de04294704fe58a85e308754ac925%29%3B%0A%20%20%20%20%20%20%20%20%0A%0A%20%20%20%20%20%20%20%20circle_marker_8b6bacae4a854888a30ddf8550b6be9b.bindPopup%28popup_2ab59a79ede548cb9694154171399f56%29%0A%20%20%20%20%20%20%20%20%3B%0A%0A%20%20%20%20%20%20%20%20%0A%20%20%20%20%0A%3C/script%3E onload=\"this.contentDocument.open();this.contentDocument.write(    decodeURIComponent(this.getAttribute('data-html')));this.contentDocument.close();\" allowfullscreen webkitallowfullscreen mozallowfullscreen></iframe></div></div>"
      ],
      "text/plain": [
       "<folium.folium.Map at 0x261ec493848>"
      ]
     },
     "execution_count": 13,
     "metadata": {},
     "output_type": "execute_result"
    }
   ],
   "source": [
    "# create map and display it\n",
    "\n",
    "data_full = pd.merge(India_coord,States_confirm,on='Name of State / UT')\n",
    "map = folium.Map(location=[30, 90], zoom_start=1,tiles='Stamen Toner')\n",
    "\n",
    "for lat, lon, value, name in zip(data_full['Latitude'], data_full['Longitude'], data_full['Confirmed_Counts'], \n",
    "                                 data_full['Name of State / UT']):\n",
    "    folium.CircleMarker([lat, lon],\n",
    "                        radius=value*0.01,\n",
    "                        popup = ('<strong>State</strong>: ' + str(name).capitalize() + '<br>'\n",
    "                                '<strong>Active Cases</strong>: ' + str(value) + '<br>'),\n",
    "                        color='red',\n",
    "                        \n",
    "                        fill_color='red',\n",
    "                        fill_opacity=0.8 ).add_to(map)\n",
    "map"
   ]
  },
  {
   "cell_type": "code",
   "execution_count": 14,
   "metadata": {},
   "outputs": [
    {
     "name": "stdout",
     "output_type": "stream",
     "text": [
      "VIEW CORELATION MATRIX \n"
     ]
    },
    {
     "data": {
      "text/html": [
       "<style  type=\"text/css\" >\n",
       "#T_32a83_row0_col0,#T_32a83_row1_col1,#T_32a83_row2_col2{\n",
       "            background-color:  #023858;\n",
       "            color:  #f1f1f1;\n",
       "        }#T_32a83_row0_col1,#T_32a83_row1_col0,#T_32a83_row1_col2{\n",
       "            background-color:  #fff7fb;\n",
       "            color:  #000000;\n",
       "        }#T_32a83_row0_col2,#T_32a83_row2_col0{\n",
       "            background-color:  #034165;\n",
       "            color:  #f1f1f1;\n",
       "        }#T_32a83_row2_col1{\n",
       "            background-color:  #fef6fa;\n",
       "            color:  #000000;\n",
       "        }</style><table id=\"T_32a83_\" ><thead>    <tr>        <th class=\"blank level0\" ></th>        <th class=\"col_heading level0 col0\" >Cured</th>        <th class=\"col_heading level0 col1\" >Deaths</th>        <th class=\"col_heading level0 col2\" >Confirmed</th>    </tr></thead><tbody>\n",
       "                <tr>\n",
       "                        <th id=\"T_32a83_level0_row0\" class=\"row_heading level0 row0\" >Cured</th>\n",
       "                        <td id=\"T_32a83_row0_col0\" class=\"data row0 col0\" >1.000000</td>\n",
       "                        <td id=\"T_32a83_row0_col1\" class=\"data row0 col1\" >0.914337</td>\n",
       "                        <td id=\"T_32a83_row0_col2\" class=\"data row0 col2\" >0.997105</td>\n",
       "            </tr>\n",
       "            <tr>\n",
       "                        <th id=\"T_32a83_level0_row1\" class=\"row_heading level0 row1\" >Deaths</th>\n",
       "                        <td id=\"T_32a83_row1_col0\" class=\"data row1 col0\" >0.914337</td>\n",
       "                        <td id=\"T_32a83_row1_col1\" class=\"data row1 col1\" >1.000000</td>\n",
       "                        <td id=\"T_32a83_row1_col2\" class=\"data row1 col2\" >0.915265</td>\n",
       "            </tr>\n",
       "            <tr>\n",
       "                        <th id=\"T_32a83_level0_row2\" class=\"row_heading level0 row2\" >Confirmed</th>\n",
       "                        <td id=\"T_32a83_row2_col0\" class=\"data row2 col0\" >0.997105</td>\n",
       "                        <td id=\"T_32a83_row2_col1\" class=\"data row2 col1\" >0.915265</td>\n",
       "                        <td id=\"T_32a83_row2_col2\" class=\"data row2 col2\" >1.000000</td>\n",
       "            </tr>\n",
       "    </tbody></table>"
      ],
      "text/plain": [
       "<pandas.io.formats.style.Styler at 0x261ebafcec8>"
      ]
     },
     "execution_count": 14,
     "metadata": {},
     "output_type": "execute_result"
    }
   ],
   "source": [
    "print('VIEW CORELATION MATRIX ')\n",
    "corel_matrix = data.corr()\n",
    "\n",
    "# PRINT CORELATION MATRIX USING COLOR\n",
    "corel_matrix.style.background_gradient()"
   ]
  },
  {
   "cell_type": "code",
   "execution_count": 15,
   "metadata": {},
   "outputs": [
    {
     "data": {
      "text/plain": [
       "Confirmed    1.000000\n",
       "Cured        0.997105\n",
       "Deaths       0.915265\n",
       "Name: Confirmed, dtype: float64"
      ]
     },
     "execution_count": 15,
     "metadata": {},
     "output_type": "execute_result"
    }
   ],
   "source": [
    "corr=data.corr()\n",
    "corr.nlargest(15,'Confirmed')['Confirmed']"
   ]
  },
  {
   "cell_type": "code",
   "execution_count": 16,
   "metadata": {},
   "outputs": [
    {
     "name": "stdout",
     "output_type": "stream",
     "text": [
      "           Date      SU CIN CFN    Cured Deaths Confirmed\n",
      "0    30-01-2020  Kerala   1   0        0      0         1\n",
      "1    31-01-2020  Kerala   1   0        0      0         1\n",
      "2    01-02-2020  Kerala   2   0        0      0         2\n",
      "3    02-02-2020  Kerala   3   0        0      0         3\n",
      "4    03-02-2020  Kerala   3   0        0      0         3\n",
      "..          ...     ...  ..  ..      ...    ...       ...\n",
      "511  24-06-2021  Kerala   -   -  2729967  12445   2842247\n",
      "512  25-06-2021  Kerala   -   -  2741436  12581   2854325\n",
      "513  26-06-2021  Kerala   -   -  2752492  12699   2865871\n",
      "514  27-06-2021  Kerala   -   -  2763616  12817   2877989\n",
      "515  28-06-2021  Kerala   -   -  2775967  12879   2888894\n",
      "\n",
      "[516 rows x 7 columns]\n"
     ]
    }
   ],
   "source": [
    "df_Kerala = pd.DataFrame(columns=['Date', 'SU', 'CIN','CFN','Cured','Deaths','Confirmed'])\n",
    "for index, row in data.iterrows():\n",
    "    if row['SU'] == 'Kerala': \n",
    "        df_Kerala = df_Kerala.append({'Date':row['Date'], 'SU':row['SU'],'CIN':row['CIN'], 'CFN':row['CFN'],'Cured':row['Cured'],\n",
    "                                      'Deaths' : row['Deaths'], 'Confirmed' : row['Confirmed']}, ignore_index=True)\n",
    "print(df_Kerala)\n",
    "df_Kerala.to_csv('Datas/Kerala.csv')"
   ]
  },
  {
   "cell_type": "code",
   "execution_count": 17,
   "metadata": {},
   "outputs": [
    {
     "name": "stdout",
     "output_type": "stream",
     "text": [
      "           Date     SU CIN CFN    Cured Deaths Confirmed\n",
      "0    02-03-2020  Delhi   1   0        0      0         1\n",
      "1    03-03-2020  Delhi   1   0        0      0         1\n",
      "2    04-03-2020  Delhi   1   0        0      0         1\n",
      "3    05-03-2020  Delhi   2   0        0      0         2\n",
      "4    06-03-2020  Delhi   3   0        0      0         3\n",
      "..          ...    ...  ..  ..      ...    ...       ...\n",
      "479  24-06-2021  Delhi   -   -  1406629  24940   1433366\n",
      "480  25-06-2021  Delhi   -   -  1406760  24948   1433475\n",
      "481  26-06-2021  Delhi   -   -  1406958  24952   1433590\n",
      "482  27-06-2021  Delhi   -   -  1407116  24961   1433675\n",
      "483  28-06-2021  Delhi   -   -  1407401  24965   1433934\n",
      "\n",
      "[484 rows x 7 columns]\n"
     ]
    }
   ],
   "source": [
    "df_Delhi = pd.DataFrame(columns=['Date', 'SU', 'CIN','CFN','Cured','Deaths','Confirmed'])\n",
    "for index, row in data.iterrows():\n",
    "    if row['SU'] == 'Delhi': \n",
    "        df_Delhi = df_Delhi.append({'Date':row['Date'], 'SU':row['SU'],'CIN':row['CIN'], 'CFN':row['CFN'],'Cured':row['Cured'],\n",
    "                                      'Deaths' : row['Deaths'], 'Confirmed' : row['Confirmed']}, ignore_index=True)\n",
    "print(df_Delhi)\n",
    "df_Delhi.to_csv('Datas/Delhi.csv')"
   ]
  },
  {
   "cell_type": "code",
   "execution_count": 18,
   "metadata": {},
   "outputs": [
    {
     "name": "stdout",
     "output_type": "stream",
     "text": [
      "           Date         SU CIN CFN   Cured Deaths Confirmed\n",
      "0    03-03-2020  Rajasthan   0   1       0      0         1\n",
      "1    04-03-2020  Rajasthan   1  14       0      0        15\n",
      "2    05-03-2020  Rajasthan   1  14       0      0        15\n",
      "3    06-03-2020  Rajasthan   1  14       0      0        15\n",
      "4    07-03-2020  Rajasthan   1  14       0      0        15\n",
      "..          ...        ...  ..  ..     ...    ...       ...\n",
      "478  24-06-2021  Rajasthan   -   -  940465   8905    951548\n",
      "479  25-06-2021  Rajasthan   -   -  940771   8905    951695\n",
      "480  26-06-2021  Rajasthan   -   -  941048   8905    951826\n",
      "481  27-06-2021  Rajasthan   -   -  941218   8910    951967\n",
      "482  28-06-2021  Rajasthan   -   -  941482   8914    952129\n",
      "\n",
      "[483 rows x 7 columns]\n"
     ]
    }
   ],
   "source": [
    "df_Rajasthan = pd.DataFrame(columns=['Date', 'SU', 'CIN','CFN','Cured','Deaths','Confirmed'])\n",
    "for index, row in data.iterrows():\n",
    "    if row['SU'] == 'Rajasthan': \n",
    "        df_Rajasthan = df_Rajasthan.append({'Date':row['Date'], 'SU':row['SU'],'CIN':row['CIN'], 'CFN':row['CFN'],'Cured':row['Cured'],\n",
    "                                      'Deaths' : row['Deaths'], 'Confirmed' : row['Confirmed']}, ignore_index=True)\n",
    "print(df_Rajasthan)\n",
    "df_Rajasthan.to_csv('Datas/Rajasthan.csv')"
   ]
  },
  {
   "cell_type": "code",
   "execution_count": 19,
   "metadata": {},
   "outputs": [
    {
     "name": "stdout",
     "output_type": "stream",
     "text": [
      "           Date       SU CIN CFN   Cured Deaths Confirmed\n",
      "0    04-03-2020  Haryana   0   2       0      0         2\n",
      "1    05-03-2020  Haryana   0   2       0      0         2\n",
      "2    06-03-2020  Haryana   0   2       0      0         2\n",
      "3    07-03-2020  Haryana   0   2       0      0         2\n",
      "4    08-03-2020  Haryana   0   2       0      0         2\n",
      "..          ...      ...  ..  ..     ...    ...       ...\n",
      "477  24-06-2021  Haryana   -   -  756426   9314    767900\n",
      "478  25-06-2021  Haryana   -   -  756679   9333    768002\n",
      "479  26-06-2021  Haryana   -   -  756864   9351    768142\n",
      "480  27-06-2021  Haryana   -   -  757091   9368    768263\n",
      "481  28-06-2021  Haryana   -   -  757308   9385    768378\n",
      "\n",
      "[482 rows x 7 columns]\n"
     ]
    }
   ],
   "source": [
    "df_Haryana = pd.DataFrame(columns=['Date', 'SU', 'CIN','CFN','Cured','Deaths','Confirmed'])\n",
    "for index, row in data.iterrows():\n",
    "    if row['SU'] == 'Haryana': \n",
    "        df_Haryana = df_Haryana.append({'Date':row['Date'], 'SU':row['SU'],'CIN':row['CIN'], 'CFN':row['CFN'],'Cured':row['Cured'],\n",
    "                                      'Deaths' : row['Deaths'], 'Confirmed' : row['Confirmed']}, ignore_index=True)\n",
    "print(df_Haryana)\n",
    "df_Haryana.to_csv('Datas/Haryana.csv')"
   ]
  },
  {
   "cell_type": "code",
   "execution_count": 20,
   "metadata": {},
   "outputs": [
    {
     "name": "stdout",
     "output_type": "stream",
     "text": [
      "           Date             SU CIN CFN    Cured Deaths Confirmed\n",
      "0    04-03-2020  Uttar Pradesh   6   0        0      0         6\n",
      "1    05-03-2020  Uttar Pradesh   7   0        0      0         7\n",
      "2    06-03-2020  Uttar Pradesh   7   0        0      0         7\n",
      "3    07-03-2020  Uttar Pradesh   7   0        0      0         7\n",
      "4    08-03-2020  Uttar Pradesh   7   0        0      0         7\n",
      "..          ...            ...  ..  ..      ...    ...       ...\n",
      "477  24-06-2021  Uttar Pradesh   -   -  1678788  22336   1704790\n",
      "478  25-06-2021  Uttar Pradesh   -   -  1679096  22366   1705014\n",
      "479  26-06-2021  Uttar Pradesh   -   -  1679416  22381   1705220\n",
      "480  27-06-2021  Uttar Pradesh   -   -  1679744  22443   1705384\n",
      "481  28-06-2021  Uttar Pradesh   -   -  1679913  22518   1705596\n",
      "\n",
      "[482 rows x 7 columns]\n"
     ]
    }
   ],
   "source": [
    "df_Uttarpradesh = pd.DataFrame(columns=['Date', 'SU', 'CIN','CFN','Cured','Deaths','Confirmed'])\n",
    "for index, row in data.iterrows():\n",
    "    if row['SU'] == 'Uttar Pradesh': \n",
    "        df_Uttarpradesh= df_Uttarpradesh.append({'Date':row['Date'], 'SU':row['SU'],'CIN':row['CIN'], 'CFN':row['CFN'],'Cured':row['Cured'],\n",
    "                                      'Deaths' : row['Deaths'], 'Confirmed' : row['Confirmed']}, ignore_index=True)\n",
    "print(df_Uttarpradesh)\n",
    "df_Uttarpradesh.to_csv('Datas/Uttarpradesh.csv')"
   ]
  },
  {
   "cell_type": "code",
   "execution_count": 21,
   "metadata": {},
   "outputs": [
    {
     "name": "stdout",
     "output_type": "stream",
     "text": [
      "           Date          SU CIN CFN    Cured Deaths Confirmed\n",
      "0    07-03-2020  Tamil Nadu   1   0        0      0         1\n",
      "1    08-03-2020  Tamil Nadu   1   0        0      0         1\n",
      "2    09-03-2020  Tamil Nadu   1   0        0      0         1\n",
      "3    10-03-2020  Tamil Nadu   1   0        0      0         1\n",
      "4    11-03-2020  Tamil Nadu   1   0        0      0         1\n",
      "..          ...         ...  ..  ..      ...    ...       ...\n",
      "474  24-06-2021  Tamil Nadu   -   -  2358785  31746   2443415\n",
      "475  25-06-2021  Tamil Nadu   -   -  2367831  31901   2449577\n",
      "476  26-06-2021  Tamil Nadu   -   -  2375963  32051   2455332\n",
      "477  27-06-2021  Tamil Nadu   -   -  2383624  32199   2460747\n",
      "478  28-06-2021  Tamil Nadu   -   -  2390783  32290   2465874\n",
      "\n",
      "[479 rows x 7 columns]\n"
     ]
    }
   ],
   "source": [
    "df_Tamilnadu= pd.DataFrame(columns=['Date', 'SU', 'CIN','CFN','Cured','Deaths','Confirmed'])\n",
    "for index, row in data.iterrows():\n",
    "    if row['SU'] == 'Tamil Nadu': \n",
    "        df_Tamilnadu= df_Tamilnadu.append({'Date':row['Date'], 'SU':row['SU'],'CIN':row['CIN'], 'CFN':row['CFN'],'Cured':row['Cured'],\n",
    "                                      'Deaths' : row['Deaths'], 'Confirmed' : row['Confirmed']}, ignore_index=True)\n",
    "print(df_Tamilnadu)\n",
    "df_Tamilnadu.to_csv('Datas/Tamilnadu.csv')"
   ]
  },
  {
   "cell_type": "code",
   "execution_count": 22,
   "metadata": {},
   "outputs": [
    {
     "name": "stdout",
     "output_type": "stream",
     "text": [
      "           Date      SU CIN CFN  Cured Deaths Confirmed\n",
      "0    07-03-2020  Ladakh   2   0      0      0         2\n",
      "1    08-03-2020  Ladakh   2   0      0      0         2\n",
      "2    09-03-2020  Ladakh   2   0      0      0         2\n",
      "3    10-03-2020  Ladakh   2   0      0      0         2\n",
      "4    11-03-2020  Ladakh   2   0      0      0         2\n",
      "..          ...     ...  ..  ..    ...    ...       ...\n",
      "474  24-06-2021  Ladakh   -   -  19341    202     19881\n",
      "475  25-06-2021  Ladakh   -   -  19387    202     19903\n",
      "476  26-06-2021  Ladakh   -   -  19425    202     19920\n",
      "477  27-06-2021  Ladakh   -   -  19458    202     19941\n",
      "478  28-06-2021  Ladakh   -   -  19481    202     19964\n",
      "\n",
      "[479 rows x 7 columns]\n"
     ]
    }
   ],
   "source": [
    "df_Ladakh = pd.DataFrame(columns=['Date', 'SU', 'CIN','CFN','Cured','Deaths','Confirmed'])\n",
    "for index, row in data.iterrows():\n",
    "    if row['SU'] == 'Ladakh': \n",
    "        df_Ladakh= df_Ladakh.append({'Date':row['Date'], 'SU':row['SU'],'CIN':row['CIN'], 'CFN':row['CFN'],'Cured':row['Cured'],\n",
    "                                      'Deaths' : row['Deaths'], 'Confirmed' : row['Confirmed']}, ignore_index=True)\n",
    "print(df_Ladakh)\n",
    "df_Ladakh.to_csv('Datas/Ladakh.csv')"
   ]
  },
  {
   "cell_type": "code",
   "execution_count": 23,
   "metadata": {},
   "outputs": [
    {
     "name": "stdout",
     "output_type": "stream",
     "text": [
      "           Date      SU CIN CFN   Cured Deaths Confirmed\n",
      "0    09-03-2020  Punjab   1   0       0      0         1\n",
      "1    10-03-2020  Punjab   1   0       0      0         1\n",
      "2    11-03-2020  Punjab   1   0       0      0         1\n",
      "3    12-03-2020  Punjab   1   0       0      0         1\n",
      "4    13-03-2020  Punjab   1   0       0      0         1\n",
      "..          ...     ...  ..  ..     ...    ...       ...\n",
      "472  24-06-2021  Punjab   -   -  572008  15923    593572\n",
      "473  25-06-2021  Punjab   -   -  572723  15944    593941\n",
      "474  26-06-2021  Punjab   -   -  573491  15956    594279\n",
      "475  27-06-2021  Punjab   -   -  574231  15979    594586\n",
      "476  28-06-2021  Punjab   -   -  574872  15991    594883\n",
      "\n",
      "[477 rows x 7 columns]\n"
     ]
    }
   ],
   "source": [
    "df_Punjab= pd.DataFrame(columns=['Date', 'SU', 'CIN','CFN','Cured','Deaths','Confirmed'])\n",
    "for index, row in data.iterrows():\n",
    "    if row['SU'] == 'Punjab': \n",
    "        df_Punjab= df_Punjab.append({'Date':row['Date'], 'SU':row['SU'],'CIN':row['CIN'], 'CFN':row['CFN'],'Cured':row['Cured'],\n",
    "                                      'Deaths' : row['Deaths'], 'Confirmed' : row['Confirmed']}, ignore_index=True)\n",
    "print(df_Punjab)\n",
    "df_Punjab.to_csv('Datas/Punjab.csv')"
   ]
  },
  {
   "cell_type": "code",
   "execution_count": 24,
   "metadata": {},
   "outputs": [
    {
     "name": "stdout",
     "output_type": "stream",
     "text": [
      "           Date           SU CIN CFN    Cured  Deaths Confirmed\n",
      "0    09-03-2020  Maharashtra   2   0        0       0         2\n",
      "1    10-03-2020  Maharashtra   5   0        0       0         5\n",
      "2    11-03-2020  Maharashtra   2   0        0       0         2\n",
      "3    12-03-2020  Maharashtra  11   0        0       0        11\n",
      "4    13-03-2020  Maharashtra  14   0        0       0        14\n",
      "..          ...          ...  ..  ..      ...     ...       ...\n",
      "472  24-06-2021  Maharashtra   -   -  5753290  119303   5997587\n",
      "473  25-06-2021  Maharashtra   -   -  5762661  119859   6007431\n",
      "474  26-06-2021  Maharashtra   -   -  5772799  120370   6017035\n",
      "475  27-06-2021  Maharashtra   -   -  5781551  120881   6026847\n",
      "476  28-06-2021  Maharashtra   -   -  5790113  121286   6036821\n",
      "\n",
      "[477 rows x 7 columns]\n"
     ]
    }
   ],
   "source": [
    "df_Maharashtra= pd.DataFrame(columns=['Date', 'SU', 'CIN','CFN','Cured','Deaths','Confirmed'])\n",
    "for index, row in data.iterrows():\n",
    "    if row['SU'] == 'Maharashtra': \n",
    "        df_Maharashtra= df_Maharashtra.append({'Date':row['Date'], 'SU':row['SU'],'CIN':row['CIN'], 'CFN':row['CFN'],'Cured':row['Cured'],\n",
    "                                      'Deaths' : row['Deaths'], 'Confirmed' : row['Confirmed']}, ignore_index=True)\n",
    "print(df_Maharashtra)\n",
    "df_Maharashtra.to_csv('Datas/Maharashtra.csv')"
   ]
  },
  {
   "cell_type": "code",
   "execution_count": 25,
   "metadata": {
    "scrolled": true
   },
   "outputs": [
    {
     "name": "stdout",
     "output_type": "stream",
     "text": [
      "           Date         SU CIN CFN    Cured Deaths Confirmed\n",
      "0    09-03-2020  Karnataka   1   0        0      0         1\n",
      "1    10-03-2020  Karnataka   4   0        0      0         4\n",
      "2    11-03-2020  Karnataka   4   0        0      0         4\n",
      "3    12-03-2020  Karnataka   4   0        0      0         4\n",
      "4    13-03-2020  Karnataka   6   0        0      1         6\n",
      "..          ...        ...  ..  ..      ...    ...       ...\n",
      "472  24-06-2021  Karnataka   -   -  2668705  34287   2819465\n",
      "473  25-06-2021  Karnataka   -   -  2678473  34425   2823444\n",
      "474  26-06-2021  Karnataka   -   -  2684997  34539   2826754\n",
      "475  27-06-2021  Karnataka   -   -  2691123  34654   2831026\n",
      "476  28-06-2021  Karnataka   -   -  2698822  34743   2834630\n",
      "\n",
      "[477 rows x 7 columns]\n"
     ]
    }
   ],
   "source": [
    "df_Karnataka= pd.DataFrame(columns=['Date', 'SU', 'CIN','CFN','Cured','Deaths','Confirmed'])\n",
    "for index, row in data.iterrows():\n",
    "    if row['SU'] == 'Karnataka': \n",
    "        df_Karnataka= df_Karnataka.append({'Date':row['Date'], 'SU':row['SU'],'CIN':row['CIN'], 'CFN':row['CFN'],'Cured':row['Cured'],\n",
    "                                      'Deaths' : row['Deaths'], 'Confirmed' : row['Confirmed']}, ignore_index=True)\n",
    "print(df_Karnataka)\n",
    "df_Karnataka.to_csv('Datas/Karnataka.csv')"
   ]
  },
  {
   "cell_type": "code",
   "execution_count": 26,
   "metadata": {},
   "outputs": [
    {
     "name": "stdout",
     "output_type": "stream",
     "text": [
      "           Date                 SU CIN CFN   Cured Deaths Confirmed\n",
      "0    09-03-2020  Jammu and Kashmir   1   0       0      0         1\n",
      "1    10-03-2020  Jammu and Kashmir   1   0       0      0         1\n",
      "2    11-03-2020  Jammu and Kashmir   1   0       0      0         1\n",
      "3    12-03-2020  Jammu and Kashmir   1   0       0      0         1\n",
      "4    13-03-2020  Jammu and Kashmir   1   0       0      0         1\n",
      "..          ...                ...  ..  ..     ...    ...       ...\n",
      "472  24-06-2021  Jammu and Kashmir   -   -  301973   4273    313028\n",
      "473  25-06-2021  Jammu and Kashmir   -   -  302655   4284    313476\n",
      "474  26-06-2021  Jammu and Kashmir   -   -  303526   4291    313974\n",
      "475  27-06-2021  Jammu and Kashmir   -   -  304390   4296    314316\n",
      "476  28-06-2021  Jammu and Kashmir   -   -  305135   4304    314731\n",
      "\n",
      "[477 rows x 7 columns]\n"
     ]
    }
   ],
   "source": [
    "df_JAK= pd.DataFrame(columns=['Date', 'SU', 'CIN','CFN','Cured','Deaths','Confirmed'])\n",
    "for index, row in data.iterrows():\n",
    "    if row['SU'] == 'Jammu and Kashmir': \n",
    "        df_JAK= df_JAK.append({'Date':row['Date'], 'SU':row['SU'],'CIN':row['CIN'], 'CFN':row['CFN'],'Cured':row['Cured'],\n",
    "                                      'Deaths' : row['Deaths'], 'Confirmed' : row['Confirmed']}, ignore_index=True)\n",
    "print(df_JAK)\n",
    "df_JAK.to_csv('Datas/JAK.csv')"
   ]
  },
  {
   "cell_type": "code",
   "execution_count": 27,
   "metadata": {},
   "outputs": [
    {
     "name": "stdout",
     "output_type": "stream",
     "text": [
      "           Date              SU CIN CFN    Cured Deaths Confirmed\n",
      "0    12-03-2020  Andhra Pradesh   1   0        0      0         1\n",
      "1    13-03-2020  Andhra Pradesh   1   0        0      0         1\n",
      "2    14-03-2020  Andhra Pradesh   1   0        0      0         1\n",
      "3    15-03-2020  Andhra Pradesh   1   0        0      0         1\n",
      "4    16-03-2020  Andhra Pradesh   1   0        0      0         1\n",
      "..          ...             ...  ..  ..      ...    ...       ...\n",
      "469  24-06-2021  Andhra Pradesh   -   -  1798380  12452   1862036\n",
      "470  25-06-2021  Andhra Pradesh   -   -  1804844  12490   1867017\n",
      "471  26-06-2021  Andhra Pradesh   -   -  1811157  12528   1871475\n",
      "472  27-06-2021  Andhra Pradesh   -   -  1816930  12566   1875622\n",
      "473  28-06-2021  Andhra Pradesh   -   -  1822500  12599   1879872\n",
      "\n",
      "[474 rows x 7 columns]\n"
     ]
    }
   ],
   "source": [
    "df_Andhrapradesh = pd.DataFrame(columns=['Date', 'SU', 'CIN','CFN','Cured','Deaths','Confirmed'])\n",
    "for index, row in data.iterrows():\n",
    "    if row['SU'] == 'Andhra Pradesh': \n",
    "        df_Andhrapradesh = df_Andhrapradesh.append({'Date':row['Date'], 'SU':row['SU'],'CIN':row['CIN'], 'CFN':row['CFN'],'Cured':row['Cured'],\n",
    "                                      'Deaths' : row['Deaths'], 'Confirmed' : row['Confirmed']}, ignore_index=True)\n",
    "print(df_Andhrapradesh)\n",
    "df_Andhrapradesh.to_csv('Datas/Andhrapradesh.csv')"
   ]
  },
  {
   "cell_type": "code",
   "execution_count": 28,
   "metadata": {
    "scrolled": true
   },
   "outputs": [
    {
     "name": "stdout",
     "output_type": "stream",
     "text": [
      "           Date           SU CIN CFN   Cured Deaths Confirmed\n",
      "0    15-03-2020  Uttarakhand   1   0       0      0         1\n",
      "1    16-03-2020  Uttarakhand   1   0       0      0         1\n",
      "2    17-03-2020  Uttarakhand   1   0       0      0         1\n",
      "3    18-03-2020  Uttarakhand   1   0       0      0         1\n",
      "4    19-03-2020  Uttarakhand   1   0       0      0         1\n",
      "..          ...          ...  ..  ..     ...    ...       ...\n",
      "466  24-06-2021  Uttarakhand   -   -  329182   7068    339127\n",
      "467  25-06-2021  Uttarakhand   -   -  329432   7074    339245\n",
      "468  26-06-2021  Uttarakhand   -   -  329663   7083    339373\n",
      "469  27-06-2021  Uttarakhand   -   -  329941   7086    339537\n",
      "470  28-06-2021  Uttarakhand   -   -  330066   7088    339619\n",
      "\n",
      "[471 rows x 7 columns]\n"
     ]
    }
   ],
   "source": [
    "df_Uttarakhand = pd.DataFrame(columns=['Date', 'SU', 'CIN','CFN','Cured','Deaths','Confirmed'])\n",
    "for index, row in data.iterrows():\n",
    "    if row['SU'] == 'Uttarakhand' : \n",
    "        df_Uttarakhand = df_Uttarakhand.append({'Date':row['Date'], 'SU':row['SU'],'CIN':row['CIN'], 'CFN':row['CFN'],'Cured':row['Cured'],\n",
    "                                      'Deaths' : row['Deaths'], 'Confirmed' : row['Confirmed']}, ignore_index=True)\n",
    "print(df_Uttarakhand )\n",
    "df_Uttarakhand.to_csv('Datas/Uttarakhand.csv')"
   ]
  },
  {
   "cell_type": "code",
   "execution_count": 29,
   "metadata": {},
   "outputs": [
    {
     "name": "stdout",
     "output_type": "stream",
     "text": [
      "           Date      SU CIN CFN   Cured Deaths Confirmed\n",
      "0    16-03-2020  Odisha   1   0       0      0         1\n",
      "1    17-03-2020  Odisha   1   0       0      0         1\n",
      "2    18-03-2020  Odisha   1   0       0      0         1\n",
      "3    19-03-2020  Odisha   1   0       0      0         1\n",
      "4    20-03-2020  Odisha   2   0       0      0         2\n",
      "..          ...     ...  ..  ..     ...    ...       ...\n",
      "465  24-06-2021  Odisha   -   -  853012   3717    886946\n",
      "466  25-06-2021  Odisha   -   -  856498   3761    890596\n",
      "467  26-06-2021  Odisha   -   -  860142   3801    893508\n",
      "468  27-06-2021  Odisha   -   -  863824   3848    897062\n",
      "469  28-06-2021  Odisha   -   -  867402   3887    900470\n",
      "\n",
      "[470 rows x 7 columns]\n"
     ]
    }
   ],
   "source": [
    "df_Odisha = pd.DataFrame(columns=['Date', 'SU', 'CIN','CFN','Cured','Deaths','Confirmed'])\n",
    "for index, row in data.iterrows():\n",
    "    if row['SU'] == 'Odisha' : \n",
    "        df_Odisha = df_Odisha.append({'Date':row['Date'], 'SU':row['SU'],'CIN':row['CIN'], 'CFN':row['CFN'],'Cured':row['Cured'],\n",
    "                                      'Deaths' : row['Deaths'], 'Confirmed' : row['Confirmed']}, ignore_index=True)\n",
    "print(df_Odisha)\n",
    "df_Odisha.to_csv('Datas/Odisha.csv')"
   ]
  },
  {
   "cell_type": "code",
   "execution_count": 30,
   "metadata": {},
   "outputs": [
    {
     "name": "stdout",
     "output_type": "stream",
     "text": [
      "           Date          SU CIN CFN   Cured Deaths Confirmed\n",
      "0    18-03-2020  Puducherry   1   0       0      0         1\n",
      "1    19-03-2020  Puducherry   1   0       0      0         1\n",
      "2    20-03-2020  Puducherry   1   0       0      0         1\n",
      "3    21-03-2020  Puducherry   1   0       0      0         1\n",
      "4    22-03-2020  Puducherry   1   0       0      0         1\n",
      "..          ...         ...  ..  ..     ...    ...       ...\n",
      "463  24-06-2021  Puducherry   -   -  110838   1731    115627\n",
      "464  25-06-2021  Puducherry   -   -  111114   1734    115925\n",
      "465  26-06-2021  Puducherry   -   -  111477   1739    116186\n",
      "466  27-06-2021  Puducherry   -   -  111898   1741    116414\n",
      "467  28-06-2021  Puducherry   -   -  112229   1744    116645\n",
      "\n",
      "[468 rows x 7 columns]\n"
     ]
    }
   ],
   "source": [
    "df_Puducherry = pd.DataFrame(columns=['Date', 'SU', 'CIN','CFN','Cured','Deaths','Confirmed'])\n",
    "for index, row in data.iterrows():\n",
    "    if row['SU'] == 'Puducherry' : \n",
    "        df_Puducherry = df_Puducherry.append({'Date':row['Date'], 'SU':row['SU'],'CIN':row['CIN'], 'CFN':row['CFN'],'Cured':row['Cured'],\n",
    "                                      'Deaths' : row['Deaths'], 'Confirmed' : row['Confirmed']}, ignore_index=True)\n",
    "print(df_Puducherry)\n",
    "df_Puducherry.to_csv('Datas/Puducherry.csv')"
   ]
  },
  {
   "cell_type": "code",
   "execution_count": 31,
   "metadata": {},
   "outputs": [
    {
     "name": "stdout",
     "output_type": "stream",
     "text": [
      "           Date           SU CIN CFN    Cured Deaths Confirmed\n",
      "0    18-03-2020  West Bengal   1   0        0      0         1\n",
      "1    19-03-2020  West Bengal   1   0        0      0         1\n",
      "2    20-03-2020  West Bengal   2   0        0      0         2\n",
      "3    21-03-2020  West Bengal   3   0        0      0         3\n",
      "4    22-03-2020  West Bengal   4   0        0      0         4\n",
      "..          ...          ...  ..  ..      ...    ...       ...\n",
      "463  24-06-2021  West Bengal   -   -  1447510  17475   1487363\n",
      "464  25-06-2021  West Bengal   -   -  1449462  17516   1489286\n",
      "465  26-06-2021  West Bengal   -   -  1451437  17551   1491219\n",
      "466  27-06-2021  West Bengal   -   -  1453431  17583   1493113\n",
      "467  28-06-2021  West Bengal   -   -  1455453  17612   1494949\n",
      "\n",
      "[468 rows x 7 columns]\n"
     ]
    }
   ],
   "source": [
    "df_Westbengal = pd.DataFrame(columns=['Date', 'SU', 'CIN','CFN','Cured','Deaths','Confirmed'])\n",
    "for index, row in data.iterrows():\n",
    "    if row['SU'] == 'West Bengal' : \n",
    "        df_Westbengal = df_Westbengal.append({'Date':row['Date'], 'SU':row['SU'],'CIN':row['CIN'], 'CFN':row['CFN'],'Cured':row['Cured'],\n",
    "                                      'Deaths' : row['Deaths'], 'Confirmed' : row['Confirmed']}, ignore_index=True)\n",
    "print(df_Westbengal)\n",
    "df_Westbengal.to_csv('Datas/Westbengal.csv')"
   ]
  },
  {
   "cell_type": "code",
   "execution_count": 32,
   "metadata": {},
   "outputs": [
    {
     "name": "stdout",
     "output_type": "stream",
     "text": [
      "           Date          SU CIN CFN  Cured Deaths Confirmed\n",
      "0    19-03-2020  Chandigarh   1   0      0      0         1\n",
      "1    20-03-2020  Chandigarh   1   0      0      0         1\n",
      "2    21-03-2020  Chandigarh   1   0      0      0         1\n",
      "3    22-03-2020  Chandigarh   5   0      0      0         5\n",
      "4    23-03-2020  Chandigarh   6   0      0      0         6\n",
      "..          ...         ...  ..  ..    ...    ...       ...\n",
      "462  24-06-2021  Chandigarh   -   -  60446    807     61520\n",
      "463  25-06-2021  Chandigarh   -   -  60488    807     61542\n",
      "464  26-06-2021  Chandigarh   -   -  60533    807     61581\n",
      "465  27-06-2021  Chandigarh   -   -  60577    807     61604\n",
      "466  28-06-2021  Chandigarh   -   -  60614    807     61624\n",
      "\n",
      "[467 rows x 7 columns]\n"
     ]
    }
   ],
   "source": [
    "df_Chandigarh = pd.DataFrame(columns=['Date', 'SU', 'CIN','CFN','Cured','Deaths','Confirmed'])\n",
    "for index, row in data.iterrows():\n",
    "    if row['SU'] == 'Chandigarh' : \n",
    "        df_Chandigarh = df_Chandigarh.append({'Date':row['Date'], 'SU':row['SU'],'CIN':row['CIN'], 'CFN':row['CFN'],'Cured':row['Cured'],\n",
    "                                      'Deaths' : row['Deaths'], 'Confirmed' : row['Confirmed']}, ignore_index=True)\n",
    "print(df_Chandigarh)\n",
    "df_Chandigarh.to_csv('Datas/Chandigarh.csv')"
   ]
  },
  {
   "cell_type": "code",
   "execution_count": 33,
   "metadata": {},
   "outputs": [
    {
     "name": "stdout",
     "output_type": "stream",
     "text": [
      "           Date            SU CIN CFN   Cured Deaths Confirmed\n",
      "0    19-03-2020  Chhattisgarh   1   0       0      0         1\n",
      "1    20-03-2020  Chhattisgarh   1   0       0      0         1\n",
      "2    21-03-2020  Chhattisgarh   1   0       0      0         1\n",
      "3    22-03-2020  Chhattisgarh   1   0       0      0         1\n",
      "4    23-03-2020  Chhattisgarh   1   0       0      0         1\n",
      "..          ...           ...  ..  ..     ...    ...       ...\n",
      "462  24-06-2021  Chhattisgarh   -   -  971057  13407    992074\n",
      "463  25-06-2021  Chhattisgarh   -   -  971662  13415    992391\n",
      "464  26-06-2021  Chhattisgarh   -   -  972372  13423    992684\n",
      "465  27-06-2021  Chhattisgarh   -   -  972898  13427    993045\n",
      "466  28-06-2021  Chhattisgarh   -   -  973262  13431    993289\n",
      "\n",
      "[467 rows x 7 columns]\n"
     ]
    }
   ],
   "source": [
    "df_Chhattisgarh = pd.DataFrame(columns=['Date', 'SU', 'CIN','CFN','Cured','Deaths','Confirmed'])\n",
    "for index, row in data.iterrows():\n",
    "    if row['SU'] == 'Chhattisgarh' : \n",
    "        df_Chhattisgarh = df_Chhattisgarh.append({'Date':row['Date'], 'SU':row['SU'],'CIN':row['CIN'], 'CFN':row['CFN'],'Cured':row['Cured'],\n",
    "                                      'Deaths' : row['Deaths'], 'Confirmed' : row['Confirmed']}, ignore_index=True)\n",
    "print(df_Chhattisgarh)\n",
    "df_Chhattisgarh.to_csv('Datas/Chhattisgarh.csv')"
   ]
  },
  {
   "cell_type": "code",
   "execution_count": 34,
   "metadata": {},
   "outputs": [
    {
     "name": "stdout",
     "output_type": "stream",
     "text": [
      "           Date       SU CIN CFN   Cured Deaths Confirmed\n",
      "0    20-03-2020  Gujarat   5   0       0      0         5\n",
      "1    21-03-2020  Gujarat   7   0       0      0         7\n",
      "2    22-03-2020  Gujarat  18   0       0      1        18\n",
      "3    23-03-2020  Gujarat  29   0       0      1        29\n",
      "4    24-03-2020  Gujarat  32   1       0      1        33\n",
      "..          ...      ...  ..  ..     ...    ...       ...\n",
      "461  24-06-2021  Gujarat   -   -  807911  10040    822758\n",
      "462  25-06-2021  Gujarat   -   -  808418  10042    822887\n",
      "463  26-06-2021  Gujarat   -   -  808849  10045    823010\n",
      "464  27-06-2021  Gujarat   -   -  809201  10048    823132\n",
      "465  28-06-2021  Gujarat   -   -  809506  10051    823244\n",
      "\n",
      "[466 rows x 7 columns]\n"
     ]
    }
   ],
   "source": [
    "df_Gujarat = pd.DataFrame(columns=['Date', 'SU', 'CIN','CFN','Cured','Deaths','Confirmed'])\n",
    "for index, row in data.iterrows():\n",
    "    if row['SU'] == 'Gujarat' : \n",
    "        df_Gujarat = df_Gujarat.append({'Date':row['Date'], 'SU':row['SU'],'CIN':row['CIN'], 'CFN':row['CFN'],'Cured':row['Cured'],\n",
    "                                      'Deaths' : row['Deaths'], 'Confirmed' : row['Confirmed']}, ignore_index=True)\n",
    "print(df_Gujarat)\n",
    "df_Gujarat.to_csv('Datas/Gujarat.csv')"
   ]
  },
  {
   "cell_type": "code",
   "execution_count": 35,
   "metadata": {},
   "outputs": [
    {
     "name": "stdout",
     "output_type": "stream",
     "text": [
      "           Date                SU CIN CFN   Cured Deaths Confirmed\n",
      "0    21-03-2020  Himachal Pradesh   2   0       0      0         2\n",
      "1    22-03-2020  Himachal Pradesh   2   0       0      0         2\n",
      "2    23-03-2020  Himachal Pradesh   2   0       0      0         2\n",
      "3    24-03-2020  Himachal Pradesh   3   0       0      1         3\n",
      "4    25-03-2020  Himachal Pradesh   3   0       0      1         3\n",
      "..          ...               ...  ..  ..     ...    ...       ...\n",
      "460  24-06-2021  Himachal Pradesh   -   -  195301   3461    201049\n",
      "461  25-06-2021  Himachal Pradesh   -   -  195624   3463    201210\n",
      "462  26-06-2021  Himachal Pradesh   -   -  195942   3465    201363\n",
      "463  27-06-2021  Himachal Pradesh   -   -  196191   3471    201547\n",
      "464  28-06-2021  Himachal Pradesh   -   -  196438   3473    201665\n",
      "\n",
      "[465 rows x 7 columns]\n"
     ]
    }
   ],
   "source": [
    "df_Himachalpradesh  = pd.DataFrame(columns=['Date', 'SU', 'CIN','CFN','Cured','Deaths','Confirmed'])\n",
    "for index, row in data.iterrows():\n",
    "    if row['SU'] == 'Himachal Pradesh' : \n",
    "        df_Himachalpradesh = df_Himachalpradesh.append({'Date':row['Date'], 'SU':row['SU'],'CIN':row['CIN'], 'CFN':row['CFN'],'Cured':row['Cured'],\n",
    "                                      'Deaths' : row['Deaths'], 'Confirmed' : row['Confirmed']}, ignore_index=True)\n",
    "print(df_Himachalpradesh)\n",
    "df_Himachalpradesh.to_csv('Datas/Himachalpradesh.csv')"
   ]
  },
  {
   "cell_type": "code",
   "execution_count": 36,
   "metadata": {},
   "outputs": [
    {
     "name": "stdout",
     "output_type": "stream",
     "text": [
      "           Date              SU CIN CFN   Cured Deaths Confirmed\n",
      "0    21-03-2020  Madhya Pradesh   4   0       0      0         4\n",
      "1    22-03-2020  Madhya Pradesh   4   0       0      0         4\n",
      "2    23-03-2020  Madhya Pradesh   6   0       0      0         6\n",
      "3    24-03-2020  Madhya Pradesh   7   0       0      0         7\n",
      "4    25-03-2020  Madhya Pradesh  14   0       0      0        14\n",
      "..          ...             ...  ..  ..     ...    ...       ...\n",
      "460  24-06-2021  Madhya Pradesh   -   -  779177   8827    789499\n",
      "461  25-06-2021  Madhya Pradesh   -   -  779432   8849    789561\n",
      "462  26-06-2021  Madhya Pradesh   -   -  779630   8871    789611\n",
      "463  27-06-2021  Madhya Pradesh   -   -  779834   8896    789657\n",
      "464  28-06-2021  Madhya Pradesh   -   -  779963   8917    789696\n",
      "\n",
      "[465 rows x 7 columns]\n"
     ]
    }
   ],
   "source": [
    "df_Madhyapradesh  = pd.DataFrame(columns=['Date', 'SU', 'CIN','CFN','Cured','Deaths','Confirmed'])\n",
    "for index, row in data.iterrows():\n",
    "    if row['SU'] == 'Madhya Pradesh' : \n",
    "        df_Madhyapradesh = df_Madhyapradesh.append({'Date':row['Date'], 'SU':row['SU'],'CIN':row['CIN'], 'CFN':row['CFN'],'Cured':row['Cured'],\n",
    "                                      'Deaths' : row['Deaths'], 'Confirmed' : row['Confirmed']}, ignore_index=True)\n",
    "print(df_Madhyapradesh)\n",
    "df_Madhyapradesh.to_csv('Datas/Madhyapradesh.csv')"
   ]
  },
  {
   "cell_type": "code",
   "execution_count": 37,
   "metadata": {},
   "outputs": [
    {
     "name": "stdout",
     "output_type": "stream",
     "text": [
      "           Date       SU CIN CFN  Cured Deaths Confirmed\n",
      "0    24-03-2020  Manipur   1   0      0      0         1\n",
      "1    25-03-2020  Manipur   1   0      0      0         1\n",
      "2    26-03-2020  Manipur   1   0      0      0         1\n",
      "3    27-03-2020  Manipur   1   0      0      0         1\n",
      "4    28-03-2020  Manipur   1   0      0      0         1\n",
      "..          ...      ...  ..  ..    ...    ...       ...\n",
      "457  24-06-2021  Manipur   -   -  55257   1074     65622\n",
      "458  25-06-2021  Manipur   -   -  55912   1085     66171\n",
      "459  26-06-2021  Manipur   -   -  59995   1093     66756\n",
      "460  27-06-2021  Manipur   -   -  60529   1108     67317\n",
      "461  28-06-2021  Manipur   -   -  61038   1124     67986\n",
      "\n",
      "[462 rows x 7 columns]\n"
     ]
    }
   ],
   "source": [
    "df_Manipur  = pd.DataFrame(columns=['Date', 'SU', 'CIN','CFN','Cured','Deaths','Confirmed'])\n",
    "for index, row in data.iterrows():\n",
    "    if row['SU'] == 'Manipur' : \n",
    "        df_Manipur = df_Manipur.append({'Date':row['Date'], 'SU':row['SU'],'CIN':row['CIN'], 'CFN':row['CFN'],'Cured':row['Cured'],\n",
    "                                      'Deaths' : row['Deaths'], 'Confirmed' : row['Confirmed']}, ignore_index=True)\n",
    "print(df_Manipur)\n",
    "df_Manipur.to_csv('Datas/Manipur.csv')"
   ]
  },
  {
   "cell_type": "code",
   "execution_count": 38,
   "metadata": {},
   "outputs": [
    {
     "name": "stdout",
     "output_type": "stream",
     "text": [
      "           Date     SU CIN CFN   Cured Deaths Confirmed\n",
      "0    22-03-2020  Bihar   2   0       0      1         2\n",
      "1    23-03-2020  Bihar   2   0       0      1         2\n",
      "2    24-03-2020  Bihar   3   0       0      1         3\n",
      "3    25-03-2020  Bihar   4   0       0      1         4\n",
      "4    26-03-2020  Bihar   6   0       0      1         6\n",
      "..          ...    ...  ..  ..     ...    ...       ...\n",
      "457  24-06-2021  Bihar   -   -  708231   9569    720505\n",
      "458  25-06-2021  Bihar   -   -  708586   9573    720717\n",
      "459  26-06-2021  Bihar   -   -  708951   9576    720924\n",
      "460  27-06-2021  Bihar   -   -  709286   9578    721114\n",
      "461  28-06-2021  Bihar   -   -  709578   9579    721299\n",
      "\n",
      "[462 rows x 7 columns]\n"
     ]
    }
   ],
   "source": [
    "df_Bihar = pd.DataFrame(columns=['Date', 'SU', 'CIN','CFN','Cured','Deaths','Confirmed'])\n",
    "for index, row in data.iterrows():\n",
    "    if row['SU'] == 'Bihar' : \n",
    "        df_Bihar = df_Bihar.append({'Date':row['Date'], 'SU':row['SU'],'CIN':row['CIN'], 'CFN':row['CFN'],'Cured':row['Cured'],\n",
    "                                      'Deaths' : row['Deaths'], 'Confirmed' : row['Confirmed']}, ignore_index=True)\n",
    "print(df_Bihar)\n",
    "df_Bihar.to_csv('Datas/Bihar.csv')"
   ]
  },
  {
   "cell_type": "code",
   "execution_count": 39,
   "metadata": {},
   "outputs": [
    {
     "name": "stdout",
     "output_type": "stream",
     "text": [
      "           Date       SU CIN CFN  Cured Deaths Confirmed\n",
      "0    25-03-2020  Mizoram   1   0      0      0         1\n",
      "1    26-03-2020  Mizoram   1   0      0      0         1\n",
      "2    27-03-2020  Mizoram   1   0      0      0         1\n",
      "3    28-03-2020  Mizoram   1   0      0      0         1\n",
      "4    29-03-2020  Mizoram   -   -      0      0         1\n",
      "..          ...      ...  ..  ..    ...    ...       ...\n",
      "456  24-06-2021  Mizoram   -   -  14096     86     18624\n",
      "457  25-06-2021  Mizoram   -   -  14316     88     18859\n",
      "458  26-06-2021  Mizoram   -   -  14554     89     19091\n",
      "459  27-06-2021  Mizoram   -   -  14863     91     19324\n",
      "460  28-06-2021  Mizoram   -   -  15040     91     19455\n",
      "\n",
      "[461 rows x 7 columns]\n"
     ]
    }
   ],
   "source": [
    "df_Mizoram = pd.DataFrame(columns=['Date', 'SU', 'CIN','CFN','Cured','Deaths','Confirmed'])\n",
    "for index, row in data.iterrows():\n",
    "    if row['SU'] == 'Mizoram' : \n",
    "        df_Mizoram = df_Mizoram.append({'Date':row['Date'], 'SU':row['SU'],'CIN':row['CIN'], 'CFN':row['CFN'],'Cured':row['Cured'],\n",
    "                                      'Deaths' : row['Deaths'], 'Confirmed' : row['Confirmed']}, ignore_index=True)\n",
    "print(df_Mizoram)\n",
    "df_Mizoram.to_csv('Datas/Mizoram.csv')"
   ]
  },
  {
   "cell_type": "code",
   "execution_count": 40,
   "metadata": {},
   "outputs": [
    {
     "name": "stdout",
     "output_type": "stream",
     "text": [
      "           Date                           SU CIN CFN Cured Deaths Confirmed\n",
      "0    26-03-2020  Andaman and Nicobar Islands   1   0     0      0         1\n",
      "1    27-03-2020  Andaman and Nicobar Islands   1   0     0      0         1\n",
      "2    28-03-2020  Andaman and Nicobar Islands   6   0     0      0         6\n",
      "3    29-03-2020  Andaman and Nicobar Islands   -   -     0      0         9\n",
      "4    30-03-2020  Andaman and Nicobar Islands   -   -     0      0         9\n",
      "..          ...                          ...  ..  ..   ...    ...       ...\n",
      "455  24-06-2021  Andaman and Nicobar Islands   -   -  7210    127      7438\n",
      "456  25-06-2021  Andaman and Nicobar Islands   -   -  7214    127      7440\n",
      "457  26-06-2021  Andaman and Nicobar Islands   -   -  7245    127      7441\n",
      "458  27-06-2021  Andaman and Nicobar Islands   -   -  7265    127      7446\n",
      "459  28-06-2021  Andaman and Nicobar Islands   -   -  7266    127      7455\n",
      "\n",
      "[460 rows x 7 columns]\n"
     ]
    }
   ],
   "source": [
    "df_AANI = pd.DataFrame(columns=['Date', 'SU', 'CIN','CFN','Cured','Deaths','Confirmed'])\n",
    "for index, row in data.iterrows():\n",
    "    if row['SU'] == 'Andaman and Nicobar Islands' : \n",
    "        df_AANI = df_AANI.append({'Date':row['Date'], 'SU':row['SU'],'CIN':row['CIN'], 'CFN':row['CFN'],'Cured':row['Cured'],\n",
    "                                      'Deaths' : row['Deaths'], 'Confirmed' : row['Confirmed']}, ignore_index=True)\n",
    "print(df_AANI)\n",
    "df_AANI.to_csv('Datas/AANI.csv')"
   ]
  },
  {
   "cell_type": "code",
   "execution_count": 41,
   "metadata": {},
   "outputs": [
    {
     "name": "stdout",
     "output_type": "stream",
     "text": [
      "           Date   SU CIN CFN   Cured Deaths Confirmed\n",
      "0    26-03-2020  Goa   3   0       0      0         3\n",
      "1    27-03-2020  Goa   3   0       0      0         3\n",
      "2    28-03-2020  Goa   3   0       0      0         3\n",
      "3    29-03-2020  Goa   -   -       0      0         5\n",
      "4    30-03-2020  Goa   -   -       0      0         5\n",
      "..          ...  ...  ..  ..     ...    ...       ...\n",
      "455  24-06-2021  Goa   -   -  159419   3013    165197\n",
      "456  25-06-2021  Goa   -   -  159677   3022    165426\n",
      "457  26-06-2021  Goa   -   -  159954   3027    165648\n",
      "458  27-06-2021  Goa   -   -  160247   3032    165883\n",
      "459  28-06-2021  Goa   -   -  160548   3039    166098\n",
      "\n",
      "[460 rows x 7 columns]\n"
     ]
    }
   ],
   "source": [
    "df_Goa = pd.DataFrame(columns=['Date', 'SU', 'CIN','CFN','Cured','Deaths','Confirmed'])\n",
    "for index, row in data.iterrows():\n",
    "    if row['SU'] == 'Goa' : \n",
    "        df_Goa = df_Goa.append({'Date':row['Date'], 'SU':row['SU'],'CIN':row['CIN'], 'CFN':row['CFN'],'Cured':row['Cured'],\n",
    "                                      'Deaths' : row['Deaths'], 'Confirmed' : row['Confirmed']}, ignore_index=True)\n",
    "print(df_Goa)\n",
    "df_Goa.to_csv('Datas/Goa.csv')"
   ]
  },
  {
   "cell_type": "code",
   "execution_count": 42,
   "metadata": {},
   "outputs": [
    {
     "name": "stdout",
     "output_type": "stream",
     "text": [
      "           Date         SU CIN CFN   Cured Deaths Confirmed\n",
      "0    01-04-2020  Jharkhand   -   -       0      0         1\n",
      "1    02-04-2020  Jharkhand   -   -       0      0         1\n",
      "2    03-04-2020  Jharkhand   -   -       0      0         2\n",
      "3    04-04-2020  Jharkhand   -   -       0      0         2\n",
      "4    05-04-2020  Jharkhand   -   -       0      0         3\n",
      "..          ...        ...  ..  ..     ...    ...       ...\n",
      "449  24-06-2021  Jharkhand   -   -  338446   5104    344914\n",
      "450  25-06-2021  Jharkhand   -   -  338698   5106    345028\n",
      "451  26-06-2021  Jharkhand   -   -  338870   5107    345161\n",
      "452  27-06-2021  Jharkhand   -   -  339036   5110    345259\n",
      "453  28-06-2021  Jharkhand   -   -  339199   5111    345340\n",
      "\n",
      "[454 rows x 7 columns]\n"
     ]
    }
   ],
   "source": [
    "df_Jharkhand = pd.DataFrame(columns=['Date', 'SU', 'CIN','CFN','Cured','Deaths','Confirmed'])\n",
    "for index, row in data.iterrows():\n",
    "    if row['SU'] == 'Jharkhand' : \n",
    "        df_Jharkhand = df_Jharkhand.append({'Date':row['Date'], 'SU':row['SU'],'CIN':row['CIN'], 'CFN':row['CFN'],'Cured':row['Cured'],\n",
    "                                      'Deaths' : row['Deaths'], 'Confirmed' : row['Confirmed']}, ignore_index=True)\n",
    "print(df_Jharkhand)\n",
    "df_Jharkhand.to_csv('Datas/Jharkhand.csv')"
   ]
  },
  {
   "cell_type": "code",
   "execution_count": 43,
   "metadata": {},
   "outputs": [
    {
     "name": "stdout",
     "output_type": "stream",
     "text": [
      "           Date     SU CIN CFN   Cured Deaths Confirmed\n",
      "0    01-04-2020  Assam   -   -       0      0         1\n",
      "1    02-04-2020  Assam   -   -       0      0         5\n",
      "2    03-04-2020  Assam   -   -       0      0        16\n",
      "3    04-04-2020  Assam   -   -       0      0        24\n",
      "4    05-04-2020  Assam   -   -       0      0        26\n",
      "..          ...    ...  ..  ..     ...    ...       ...\n",
      "449  24-06-2021  Assam   -   -  454726   4310    490907\n",
      "450  25-06-2021  Assam   -   -  458330   4344    493688\n",
      "451  26-06-2021  Assam   -   -  462307   4370    496481\n",
      "452  27-06-2021  Assam   -   -  465806   4403    499121\n",
      "453  28-06-2021  Assam   -   -  469067   4440    500644\n",
      "\n",
      "[454 rows x 7 columns]\n"
     ]
    }
   ],
   "source": [
    "df_Assam = pd.DataFrame(columns=['Date', 'SU', 'CIN','CFN','Cured','Deaths','Confirmed'])\n",
    "for index, row in data.iterrows():\n",
    "    if row['SU'] == 'Assam' : \n",
    "        df_Assam = df_Assam.append({'Date':row['Date'], 'SU':row['SU'],'CIN':row['CIN'], 'CFN':row['CFN'],'Cured':row['Cured'],\n",
    "                                      'Deaths' : row['Deaths'], 'Confirmed' : row['Confirmed']}, ignore_index=True)\n",
    "print(df_Assam)\n",
    "df_Assam.to_csv('Datas/Assam.csv')"
   ]
  },
  {
   "cell_type": "code",
   "execution_count": 44,
   "metadata": {
    "scrolled": true
   },
   "outputs": [
    {
     "name": "stdout",
     "output_type": "stream",
     "text": [
      "           Date                 SU CIN CFN  Cured Deaths Confirmed\n",
      "0    03-04-2020  Arunachal Pradesh   -   -      0      0         1\n",
      "1    04-04-2020  Arunachal Pradesh   -   -      0      0         1\n",
      "2    05-04-2020  Arunachal Pradesh   -   -      0      0         1\n",
      "3    06-04-2020  Arunachal Pradesh   -   -      0      0         1\n",
      "4    07-04-2020  Arunachal Pradesh   -   -      0      0         1\n",
      "..          ...                ...  ..  ..    ...    ...       ...\n",
      "447  24-06-2021  Arunachal Pradesh   -   -  31189    160     33916\n",
      "448  25-06-2021  Arunachal Pradesh   -   -  31487    162     34214\n",
      "449  26-06-2021  Arunachal Pradesh   -   -  31792    165     34480\n",
      "450  27-06-2021  Arunachal Pradesh   -   -  32054    167     34767\n",
      "451  28-06-2021  Arunachal Pradesh   -   -  32270    167     34932\n",
      "\n",
      "[452 rows x 7 columns]\n"
     ]
    }
   ],
   "source": [
    "df_Arunachalpradesh = pd.DataFrame(columns=['Date', 'SU', 'CIN','CFN','Cured','Deaths','Confirmed'])\n",
    "for index, row in data.iterrows():\n",
    "    if row['SU'] == 'Arunachal Pradesh' : \n",
    "        df_Arunachalpradesh = df_Arunachalpradesh.append({'Date':row['Date'], 'SU':row['SU'],'CIN':row['CIN'], 'CFN':row['CFN'],'Cured':row['Cured'],\n",
    "                                      'Deaths' : row['Deaths'], 'Confirmed' : row['Confirmed']}, ignore_index=True)\n",
    "print(df_Arunachalpradesh)\n",
    "df_Arunachalpradesh.to_csv('Datas/Arunachalpradesh.csv')"
   ]
  },
  {
   "cell_type": "code",
   "execution_count": 45,
   "metadata": {},
   "outputs": [
    {
     "name": "stdout",
     "output_type": "stream",
     "text": [
      "           Date       SU CIN CFN  Cured Deaths Confirmed\n",
      "0    07-04-2020  Tripura   -   -      0      0         1\n",
      "1    08-04-2020  Tripura   -   -      0      0         1\n",
      "2    09-04-2020  Tripura   -   -      0      0         1\n",
      "3    10-04-2020  Tripura   -   -      0      0         1\n",
      "4    11-04-2020  Tripura   -   -      0      0         2\n",
      "..          ...      ...  ..  ..    ...    ...       ...\n",
      "443  24-06-2021  Tripura   -   -  58978    660     63499\n",
      "444  25-06-2021  Tripura   -   -  59378    662     63868\n",
      "445  26-06-2021  Tripura   -   -  59768    665     64159\n",
      "446  27-06-2021  Tripura   -   -  60228    668     64644\n",
      "447  28-06-2021  Tripura   -   -  60694    672     64863\n",
      "\n",
      "[448 rows x 7 columns]\n"
     ]
    }
   ],
   "source": [
    "df_Tripura = pd.DataFrame(columns=['Date', 'SU', 'CIN','CFN','Cured','Deaths','Confirmed'])\n",
    "for index, row in data.iterrows():\n",
    "    if row['SU'] == 'Tripura' : \n",
    "        df_Tripura = df_Tripura.append({'Date':row['Date'], 'SU':row['SU'],'CIN':row['CIN'], 'CFN':row['CFN'],'Cured':row['Cured'],\n",
    "                                      'Deaths' : row['Deaths'], 'Confirmed' : row['Confirmed']}, ignore_index=True)\n",
    "print(df_Tripura)\n",
    "df_Tripura.to_csv('Datas/Tripura.csv')"
   ]
  },
  {
   "cell_type": "code",
   "execution_count": 46,
   "metadata": {},
   "outputs": [
    {
     "name": "stdout",
     "output_type": "stream",
     "text": [
      "           Date         SU CIN CFN  Cured Deaths Confirmed\n",
      "0    14-04-2020  Meghalaya   -   -      0      0         1\n",
      "1    15-04-2020  Meghalaya   -   -      0      1         7\n",
      "2    16-04-2020  Meghalaya   -   -      0      1         7\n",
      "3    17-04-2020  Meghalaya   -   -      0      1         9\n",
      "4    18-04-2020  Meghalaya   -   -      0      1        11\n",
      "..          ...        ...  ..  ..    ...    ...       ...\n",
      "436  24-06-2021  Meghalaya   -   -  41349    797     46458\n",
      "437  25-06-2021  Meghalaya   -   -  41647    807     46878\n",
      "438  26-06-2021  Meghalaya   -   -  42001    814     47480\n",
      "439  27-06-2021  Meghalaya   -   -  42500    817     47985\n",
      "440  28-06-2021  Meghalaya   -   -  43070    819     48447\n",
      "\n",
      "[441 rows x 7 columns]\n"
     ]
    }
   ],
   "source": [
    "df_Meghalaya = pd.DataFrame(columns=['Date', 'SU', 'CIN','CFN','Cured','Deaths','Confirmed'])\n",
    "for index, row in data.iterrows():\n",
    "    if row['SU'] == 'Meghalaya' : \n",
    "        df_Meghalaya = df_Meghalaya.append({'Date':row['Date'], 'SU':row['SU'],'CIN':row['CIN'], 'CFN':row['CFN'],'Cured':row['Cured'],\n",
    "                                      'Deaths' : row['Deaths'], 'Confirmed' : row['Confirmed']}, ignore_index=True)\n",
    "print(df_Meghalaya)\n",
    "df_Meghalaya.to_csv('Datas/Meghalaya.csv')"
   ]
  },
  {
   "cell_type": "code",
   "execution_count": 47,
   "metadata": {},
   "outputs": [
    {
     "name": "stdout",
     "output_type": "stream",
     "text": [
      "           Date         SU CIN CFN   Cured Deaths Confirmed\n",
      "0    02-03-2020  Telengana   1   0       0      0         1\n",
      "1    03-03-2020  Telengana   1   0       0      0         1\n",
      "2    04-03-2020  Telengana   1   0       0      0         1\n",
      "3    05-03-2020  Telengana   1   0       0      0         1\n",
      "4    06-03-2020  Telengana   1   0       0      0         1\n",
      "..          ...        ...  ..  ..     ...    ...       ...\n",
      "421  27-04-2021  Telengana   -   -  340590   2094    411905\n",
      "422  28-04-2021  Telengana   -   -  345683   2150    419966\n",
      "423  29-04-2021  Telengana   -   -  349692   2208    427960\n",
      "424  30-04-2021  Telengana   -   -  355618   2261    435606\n",
      "425  01-05-2021  Telengana   -   -  362160   2312    443360\n",
      "\n",
      "[426 rows x 7 columns]\n"
     ]
    }
   ],
   "source": [
    "df_Telengana = pd.DataFrame(columns=['Date', 'SU', 'CIN','CFN','Cured','Deaths','Confirmed'])\n",
    "for index, row in data.iterrows():\n",
    "    if row['SU'] == 'Telengana' : \n",
    "        df_Telengana = df_Telengana.append({'Date':row['Date'], 'SU':row['SU'],'CIN':row['CIN'], 'CFN':row['CFN'],'Cured':row['Cured'],\n",
    "                                      'Deaths' : row['Deaths'], 'Confirmed' : row['Confirmed']}, ignore_index=True)\n",
    "print(df_Telengana)\n",
    "df_Telengana.to_csv('Datas/Telengana.csv')"
   ]
  },
  {
   "cell_type": "code",
   "execution_count": 48,
   "metadata": {},
   "outputs": [
    {
     "name": "stdout",
     "output_type": "stream",
     "text": [
      "           Date        SU CIN CFN  Cured Deaths Confirmed\n",
      "0    13-04-2020  Nagaland   -   -      0      0         1\n",
      "1    14-04-2020  Nagaland   -   -      0      0         1\n",
      "2    15-04-2020  Nagaland   -   -      0      0         0\n",
      "3    16-04-2020  Nagaland   -   -      0      0         0\n",
      "4    17-04-2020  Nagaland   -   -      0      0         0\n",
      "..          ...       ...  ..  ..    ...    ...       ...\n",
      "403  24-06-2021  Nagaland   -   -  22486    477     24541\n",
      "404  25-06-2021  Nagaland   -   -  22641    479     24629\n",
      "405  26-06-2021  Nagaland   -   -  22770    481     24759\n",
      "406  27-06-2021  Nagaland   -   -  22876    487     24850\n",
      "407  28-06-2021  Nagaland   -   -  22951    487     24961\n",
      "\n",
      "[408 rows x 7 columns]\n"
     ]
    }
   ],
   "source": [
    "df_Nagaland = pd.DataFrame(columns=['Date', 'SU', 'CIN','CFN','Cured','Deaths','Confirmed'])\n",
    "for index, row in data.iterrows():\n",
    "    if row['SU'] == 'Nagaland' : \n",
    "        df_Nagaland = df_Nagaland.append({'Date':row['Date'], 'SU':row['SU'],'CIN':row['CIN'], 'CFN':row['CFN'],'Cured':row['Cured'],\n",
    "                                      'Deaths' : row['Deaths'], 'Confirmed' : row['Confirmed']}, ignore_index=True)\n",
    "print(df_Nagaland)\n",
    "df_Nagaland.to_csv('Datas/Nagaland.csv')"
   ]
  },
  {
   "cell_type": "code",
   "execution_count": 49,
   "metadata": {},
   "outputs": [
    {
     "name": "stdout",
     "output_type": "stream",
     "text": [
      "           Date      SU CIN CFN  Cured Deaths Confirmed\n",
      "0    24-05-2020  Sikkim   -   -      0      0         1\n",
      "1    25-05-2020  Sikkim   -   -      0      0         1\n",
      "2    26-05-2020  Sikkim   -   -      0      0         1\n",
      "3    27-05-2020  Sikkim   -   -      0      0         1\n",
      "4    28-05-2020  Sikkim   -   -      0      0         1\n",
      "..          ...     ...  ..  ..    ...    ...       ...\n",
      "396  24-06-2021  Sikkim   -   -  16903    296     19589\n",
      "397  25-06-2021  Sikkim   -   -  17101    298     19681\n",
      "398  26-06-2021  Sikkim   -   -  17257    299     19811\n",
      "399  27-06-2021  Sikkim   -   -  17470    301     19941\n",
      "400  28-06-2021  Sikkim   -   -  17673    301     20111\n",
      "\n",
      "[401 rows x 7 columns]\n"
     ]
    }
   ],
   "source": [
    "df_Sikkim = pd.DataFrame(columns=['Date', 'SU', 'CIN','CFN','Cured','Deaths','Confirmed'])\n",
    "for index, row in data.iterrows():\n",
    "    if row['SU'] == 'Sikkim' : \n",
    "        df_Sikkim = df_Sikkim.append({'Date':row['Date'], 'SU':row['SU'],'CIN':row['CIN'], 'CFN':row['CFN'],'Cured':row['Cured'],\n",
    "                                      'Deaths' : row['Deaths'], 'Confirmed' : row['Confirmed']}, ignore_index=True)\n",
    "print(df_Sikkim)\n",
    "df_Sikkim.to_csv('Datas/Sikkim.csv')"
   ]
  }
 ],
 "metadata": {
  "kernelspec": {
   "display_name": "Python 3",
   "language": "python",
   "name": "python3"
  },
  "language_info": {
   "codemirror_mode": {
    "name": "ipython",
    "version": 3
   },
   "file_extension": ".py",
   "mimetype": "text/x-python",
   "name": "python",
   "nbconvert_exporter": "python",
   "pygments_lexer": "ipython3",
   "version": "3.7.10"
  }
 },
 "nbformat": 4,
 "nbformat_minor": 2
}
